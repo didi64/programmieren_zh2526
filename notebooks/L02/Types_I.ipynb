{
 "cells": [
  {
   "cell_type": "markdown",
   "id": "ce57a1ec-f1dd-4bf6-b3da-33558f887085",
   "metadata": {},
   "source": [
    "### Typen von Werten\n",
    "In Python ist der Wert jedes Ausdrucks (jede Zahl, String, usw.) ein sog. **Objekt**.\n",
    "Jedes Objekt hat einen sog. **Typ**, bez. auf Englisch **type**. Der Typ bestimmt unter anderem, was Operationen wie \n",
    "`+`,`*`, `==`, $\\ldots$ tun.  \n",
    "\n",
    "Der Begriff Typ hat historische Wurzeln. \n",
    "Seit Python 3.0 sind Typen als **Klassen** implementiert.\n",
    "Statt \n",
    ">`0` hat Typ `int`\n",
    "\n",
    "sagt man auch\n",
    "\n",
    "> `0` ist Instanz der Klasse `int`\n",
    "\n",
    "**Typ eines Ausdrucks erfragen**  \n",
    "`type(<Ausdruck>)` liefert den Typ des Ausdrucks  `<Ausdruck>`.  \n",
    "\n",
    "\n",
    "**Objekt eines (built-in) Typs erzeugen**\n",
    "1. Ein Ausdruck erzeut automatisch ein Objekt mit dem entsprechenden Typ.\n",
    "   Z.B. `2+2` erzeugt einen Integer mit Wert 4, `'foo'` erzeugt String.\n",
    "   \n",
    "2. `int()`, `float()`,  `str()` und `bool()` liefert den Default-Wert des jeweiligen Typen.\n",
    "\n",
    "3. `int(<Ausdruck>)`, `float(<Ausdruck>)`,  `str(<Ausdruck>)` und `bool(<Ausdruck>)` versuchen,\n",
    "einen sinnvollen Wert des entsprechenden Typs zu liefen. Ist dies nich m&ouml;glich, wird ein Fehler erzeugt."
   ]
  },
  {
   "cell_type": "code",
   "execution_count": null,
   "id": "cf41fa5f-0b1e-464c-99a9-6b78336b382d",
   "metadata": {},
   "outputs": [],
   "source": [
    "type('foo')  # Zeigt den Typ des Ausdrucks `foo` an"
   ]
  },
  {
   "cell_type": "code",
   "execution_count": null,
   "id": "ea4162fc-1495-4ef9-b4c5-704fc54ecb94",
   "metadata": {},
   "outputs": [],
   "source": [
    "int('2')  # Wandle den String '2' in den Integer 2 um."
   ]
  },
  {
   "cell_type": "code",
   "execution_count": null,
   "id": "5dc292bc-7fc6-47ff-8ac4-fac12a85a926",
   "metadata": {},
   "outputs": [],
   "source": [
    "int('foo')  # Umwandlung ist nicht moeglich"
   ]
  },
  {
   "cell_type": "markdown",
   "id": "9039752e-b06f-4ff4-9362-bfc1eb02ad83",
   "metadata": {},
   "source": [
    "**Aufgabe**  \n",
    "- Gib den Typ der Ausdr&uuml;cke `1`, `1.0`, `''` und `False` mit Hilfe der Funktion `type` aus.\n",
    "- Was sind die Default-Werte der Typen `int`, `float`, `str` and `bool`?\n",
    "- Trage in die Tabelle ein, welche Typen sich immer, manchmal oder nie in welche anderen Typen umwandeln lassen.\n",
    "    |  von\\nach       |int|float|str|bool|\n",
    "    | :-:     |:-:|:-:  |:-:|:-: |\n",
    "    |**int**  |*    |?  |?  |? |\n",
    "    |**float**|?   |*  |?  |? |\n",
    "    |**str**  |?    |?  |*   |? |\n",
    "    |**bool** |?   |? |?  |*  |"
   ]
  },
  {
   "cell_type": "code",
   "execution_count": null,
   "id": "608e86f9-ba0a-4f95-873e-84f24871c130",
   "metadata": {},
   "outputs": [],
   "source": []
  }
 ],
 "metadata": {
  "kernelspec": {
   "display_name": "Python 3! (ipykernel)",
   "language": "python",
   "name": "python3"
  },
  "language_info": {
   "codemirror_mode": {
    "name": "ipython",
    "version": 3
   },
   "file_extension": ".py",
   "mimetype": "text/x-python",
   "name": "python",
   "nbconvert_exporter": "python",
   "pygments_lexer": "ipython3",
   "version": "3.13.0"
  }
 },
 "nbformat": 4,
 "nbformat_minor": 5
}
