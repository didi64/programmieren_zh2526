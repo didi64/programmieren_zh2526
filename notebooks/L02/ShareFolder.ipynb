{
 "cells": [
  {
   "cell_type": "markdown",
   "id": "60670284-cf67-4811-b47f-481ca951f635",
   "metadata": {},
   "source": [
    "### Share-Folder einrichten\n",
    "Der Code in der nachstehenden Zelle richtet einen Ordner `studi@jlab:~/work/share` ein (nachfolgend kurz `share` gennanmt), welcher \n",
    "dazu benutzt werden kann, Files mit mir auszutauschen.  \n",
    "- Der Befehl  `sync_share`, auszuf&uuml;hren im Jupyterlab-Terminal, kopiert die Files im Ordner `share`\n",
    "in ein Git-Repo, auf welches ich Zugriff habe. \n",
    "\n",
    "- Der Ordner `share` hat einen Unterordner `response`. \n",
    "Darin sind ggf. Notebooks von mir zu finden.\n",
    "\n",
    "\n",
    "In folgender Zelle ist der **Email_prefix** und der **Pin** anzupassen!  \n",
    "Der `email_prefix` ist der Teil vor dem `@` deiner @edu.teko Emailaddresse.  \n",
    "Den `pin` werde ich noch verraten."
   ]
  },
  {
   "cell_type": "code",
   "execution_count": null,
   "id": "badfe04c-48a7-4a57-8810-a4ffe4c5d660",
   "metadata": {
    "scrolled": true
   },
   "outputs": [],
   "source": [
    "from share import init_share\n",
    "pin = 12345  # 12345 durch richtigen pin ersetzen\n",
    "email_prefix = 'hans.muster'  # hans.muster durch deinen email-prefix ersetzen\n",
    "init_share(email_prefix)"
   ]
  },
  {
   "cell_type": "code",
   "execution_count": null,
   "id": "c50c8013-b07d-4b3e-af12-89fb4233fef2",
   "metadata": {},
   "outputs": [],
   "source": []
  }
 ],
 "metadata": {
  "author": "dieter.probst@gmail.com",
  "kernelspec": {
   "display_name": "Python 3! (ipykernel)",
   "language": "python",
   "name": "python3"
  },
  "language_info": {
   "codemirror_mode": {
    "name": "ipython",
    "version": 3
   },
   "file_extension": ".py",
   "mimetype": "text/x-python",
   "name": "python",
   "nbconvert_exporter": "python",
   "pygments_lexer": "ipython3",
   "version": "3.13.0"
  }
 },
 "nbformat": 4,
 "nbformat_minor": 5
}
