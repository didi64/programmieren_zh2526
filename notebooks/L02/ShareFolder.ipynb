{
 "cells": [
  {
   "cell_type": "markdown",
   "id": "60670284-cf67-4811-b47f-481ca951f635",
   "metadata": {},
   "source": [
    "### Share-Folder einrichten\n",
    "Folgender Code richtet einen Ordner `studi@jlab:~/work/share` ein.  \n",
    "\n",
    "Notebooks in diesem Ordner k&ouml;nnen mit mir geteilt werden:  \n",
    "- Notebook in den Ordner `share` kopieren,\n",
    "- den Befehl `sync_share` im Jupyterlab-Terminal ausf&uuml;hren.\n",
    "\n",
    "Der Ordner `share` hat einen Unterordner `share/response`.  \n",
    "Darin ist ggf. Notebooks von mir zu finden.  \n",
    "Files \n",
    "\n",
    "\n",
    "In folgender Zelle ist der **Email_prefix anzupassen**:  \n",
    "Weise der Variable `email_prefix` den Teil vor dem `@` deiner @edu.teko Emailaddresse zu.  \n",
    "`pin` ist ebenfalls anzupassen, wird noch verraten."
   ]
  },
  {
   "cell_type": "code",
   "execution_count": null,
   "id": "badfe04c-48a7-4a57-8810-a4ffe4c5d660",
   "metadata": {
    "scrolled": true
   },
   "outputs": [],
   "source": [
    "from share import init_share\n",
    "pin = 12345  # falscher pin\n",
    "email_prefix = 'hans.muster'  # falls email hans.muster@edu.teko\n",
    "init_share(email_prefix)"
   ]
  },
  {
   "cell_type": "code",
   "execution_count": null,
   "id": "c50c8013-b07d-4b3e-af12-89fb4233fef2",
   "metadata": {},
   "outputs": [],
   "source": []
  }
 ],
 "metadata": {
  "author": "dieter.probst@gmail.com",
  "kernelspec": {
   "display_name": "Python 3! (ipykernel)",
   "language": "python",
   "name": "python3"
  },
  "language_info": {
   "codemirror_mode": {
    "name": "ipython",
    "version": 3
   },
   "file_extension": ".py",
   "mimetype": "text/x-python",
   "name": "python",
   "nbconvert_exporter": "python",
   "pygments_lexer": "ipython3",
   "version": "3.13.0"
  }
 },
 "nbformat": 4,
 "nbformat_minor": 5
}
