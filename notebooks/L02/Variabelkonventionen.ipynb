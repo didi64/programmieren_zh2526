{
 "cells": [
  {
   "cell_type": "markdown",
   "id": "4354e458-0da4-4307-b8e6-0574684a88cc",
   "metadata": {},
   "source": [
    "### Einige Konventionen zur Wahl von Variabelnamen  \n",
    "Siehe auch [PEP8](https://peps.python.org/pep-0008/#naming-conventions) \n",
    "(offizieller Python Styleguide)\n",
    "\n",
    "Das Einhalten von Konventionen erleichtert das Lesen von Code und hilft, **unbeabsichtigtes &Uuml;berschreiben von \n",
    "bereits definierten Variabeln** zu vermeiden.  \n",
    "\n",
    "Variabelnamen sollten andeuten, welchen **Zweck** sie haben.\n",
    "Eine Variable `book` sollte  ein Buch (bez. Angaben zu einem Buch) speichern,\n",
    "`books` z.B. eine Liste mit B&uuml;chern.\n",
    "Die Variable `is_even` k&ouml;nnte das Resultats eines entsprechenden Tests sein. \n",
    "Und `point2vector` sollte der Name einer Funktion sein, die einen Punkt (Koordinatenpaar) in einen Vektor umwandelt.\n",
    "\n",
    "\n",
    "- **nicht** mit **`__`** beginnen!  \n",
    "Variabelnamen, die mit `__` beginnen, sind **f&uuml;r spezielle Zwecke reserviert**\n",
    "- nicht mit '_' beginnen, ausser man will eine Variable als **privat** markieren.\n",
    "  Dies ist nur eine Konvention, der Python-Interpreter unterscheidet nicht zw. privaten und public Variabeln.\n",
    "- `_` sollte ausschliesslich als dummy Variable verwenden werden, eine Variable deren Wert nie verwendet wird, wie z.B. im folgenden Code:\n",
    "  ```python\n",
    "  for _ in range(3):\n",
    "      print('test')\n",
    "  ```\n",
    "  \n",
    "- (normale) Variabeln: klein, snake_case.  \n",
    "  `nbr`, `numbers`, `books`, `author`, `is_even`\n",
    "- Laufvariablen: F&uuml;r Integers: `i,j,k,n,...`, f&uuml;r Floats: `x,y,z,...`, f&uuml;r Zeichen: `c`, `s` (character, string), `_` dummy Variable\n",
    "- Konstanten, d.h. Variablen, deren Wert nicht modifiziert wird: GROSS, SNAKE_CASE:  \n",
    "  `PI = 3.1415926535`, `MAX_LEN = 20`\n",
    "- Funktionsnamen: klein, snake_case:  \n",
    "  `factorial`, `find_pattern`, `get_filename`, `point2vector`\n",
    "- Modulnamen: klein, snake_case.  \n",
    "  `random, sys, os, canvas_helpers, ...`\n",
    "- Klassen: Gross, CamelCase.  \n",
    "  `Canvas, ChessEngine, ...`\n",
    "- Ersatznamen enden mit einem Underscore:  \n",
    "  `id_` (`id` ist eine sog. built-in Funktion und sollte deshalb nicht als\n",
    "  Variabelnamen verwendet werden), ...  \n",
    "  Ersatznamen sind mit Bedacht zu verwenden."
   ]
  }
 ],
 "metadata": {
  "kernelspec": {
   "display_name": "Python 3! (ipykernel)",
   "language": "python",
   "name": "python3"
  },
  "language_info": {
   "codemirror_mode": {
    "name": "ipython",
    "version": 3
   },
   "file_extension": ".py",
   "mimetype": "text/x-python",
   "name": "python",
   "nbconvert_exporter": "python",
   "pygments_lexer": "ipython3",
   "version": "3.13.0"
  }
 },
 "nbformat": 4,
 "nbformat_minor": 5
}
