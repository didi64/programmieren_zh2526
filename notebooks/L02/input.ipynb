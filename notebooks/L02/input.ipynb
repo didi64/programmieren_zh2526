{
 "cells": [
  {
   "cell_type": "markdown",
   "id": "712a266d-80bd-4d95-a01f-c7bf5dbf37fc",
   "metadata": {},
   "source": [
    "### Die Funktion `input` \n",
    "\n",
    "Die Funktion `input(prompt=''`) erlaubt es, den Benutzer zu Tastatureingaben aufzufordern und diese entgegenzunehmen."
   ]
  },
  {
   "cell_type": "markdown",
   "id": "c6e7cb49-3813-484b-8020-d6740d8ea68e",
   "metadata": {},
   "source": [
    "### Der Hilfstext zu `input`\n",
    "```\n",
    "Signature: input(prompt='')  \n",
    "(der Hilfstext sagt  input(prompt='', /), aber korret ist input(prompt=''))  \n",
    "Docstring:\n",
    "Read a string from standard input.  The trailing newline is stripped.\n",
    "\n",
    "The prompt string, if given, is printed to standard output without a\n",
    "trailing newline before reading input.\n",
    "```\n",
    "\n",
    "\n",
    "Die Signatur  input(prompt='')  zeigt an, dass die Funktion ein Argument mit Defaultwert `''` hat (leerer String).\n",
    "Dieses Argument kann &uuml;berschrieben werden.  \n",
    "Die Funktion `input` kann 3 Arten aufgerufen werden:\n",
    "\n",
    "```python\n",
    "input()\n",
    "input('Name?')\n",
    "input(prompt='Name?')\n",
    "```\n",
    "\n",
    "**Wichtig**: input() fordert den Benutzer zur Eingabe von Text auf. Das Ausf&uuml;hren weitere Zellen ist bockiert, bis die Eingabe erfolgt ist. Wird versucht eine Zelle auszuf&uuml;hren w&auml;hrend auf eine Eingabe gewertet wird, wird folgende Mitteilung gemacht:\n",
    "\n",
    ">Cell not executed due to pending input\n",
    "The cell has not been executed to avoid kernel deadlock as there is another pending input! Submit your pending input and try again.\n"
   ]
  },
  {
   "cell_type": "code",
   "execution_count": null,
   "id": "c20e84bf-8599-4b74-8fd3-f4e747343a2c",
   "metadata": {},
   "outputs": [],
   "source": [
    "name = input('Name:')\n",
    "name"
   ]
  },
  {
   "cell_type": "code",
   "execution_count": 3,
   "id": "e5ed49a4-c6b2-4c6c-926e-225c03d503d6",
   "metadata": {},
   "outputs": [
    {
     "name": "stdin",
     "output_type": "stream",
     "text": [
      "Gib eine Zahl ein: 234\n"
     ]
    },
    {
     "name": "stdout",
     "output_type": "stream",
     "text": [
      "234 <class 'int'>\n"
     ]
    }
   ],
   "source": [
    "# wandle die Eingabe in eine Zahl (int) um\n",
    "number = int(input(prompt='Gib eine Zahl ein:'))\n",
    "print(number, type(number))"
   ]
  },
  {
   "cell_type": "markdown",
   "id": "e4be6aa0-e5ba-4ef3-b05e-9a9f949b2bed",
   "metadata": {},
   "source": [
    "### Aufgaben\n",
    "Schreibe Code, der\n",
    "1. den Benutzer nach einen Wort fragt, und dann die L&auml;ge dieses Wortes ausgibt\n",
    "1. den Benutzer zweimal nach einer Zahl fragt und dann die Summe ausgibt.\n",
    "1. den Benutzer nach Name und Jahrgang fragt, und dann ausgibt: `Hallo ..., du bist ... Jahre alt.`\n",
    "1. den Benutzer solange auffordert, ja oder nein einzugeben, bis er dies tats&auml;chlich tut.\n",
    "1. den Benutzer nach Text fragt, und ausgibt wieviele `a`'s der Text enth&auml;lt\n",
    "1. den Benutzer zweimal nach einer Zahl fragt und dann die Summe ausgibt.\n",
    "1. den Benutzer nach zwei durch einen Leerschlag getrennte W&oul;rtern fragt und das erste ausgibt.\n",
    "1. den Benutzer nach zwei durch einen Leerschlag getrennte W&oul;rtern fragt und das zweite ausgibt."
   ]
  },
  {
   "cell_type": "code",
   "execution_count": null,
   "id": "14fd8e17-ee5b-423b-84e6-26c5ab9ba055",
   "metadata": {},
   "outputs": [],
   "source": []
  }
 ],
 "metadata": {
  "author": "dieter.probst@gmail.com",
  "kernelspec": {
   "display_name": "Python 3! (ipykernel)",
   "language": "python",
   "name": "python3"
  },
  "language_info": {
   "codemirror_mode": {
    "name": "ipython",
    "version": 3
   },
   "file_extension": ".py",
   "mimetype": "text/x-python",
   "name": "python",
   "nbconvert_exporter": "python",
   "pygments_lexer": "ipython3",
   "version": "3.13.0"
  }
 },
 "nbformat": 4,
 "nbformat_minor": 5
}
