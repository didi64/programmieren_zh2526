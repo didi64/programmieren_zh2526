{
 "cells": [
  {
   "cell_type": "markdown",
   "id": "7cbcb122-fecf-4f3e-b05c-38ec3a9e7bc7",
   "metadata": {},
   "source": [
    "### Rechnen mit Wahrheitswerten\n",
    "\n",
    "- Welchen Wert haben die Ausdr&uuml;cke `True - False`, `False - False` und `False - True`?\n",
    "- Welcher Wert hat der Ausdruck `(x > y) - (x < y)` falls\n",
    "    - x= 2 und y = 3,\n",
    "    - x=3 und y = 3,\n",
    "    - x=4 und y = 3?\n",
    "- Welcher Wert hat der Ausdruck `(x > y) - (x < y)` falls x gr&ouml;sser, gleich oder kleiner als y ist?"
   ]
  },
  {
   "cell_type": "code",
   "execution_count": null,
   "id": "abb51d8e-b868-4679-b5c0-f1b11eed5c73",
   "metadata": {},
   "outputs": [],
   "source": [
    "True - False"
   ]
  },
  {
   "cell_type": "code",
   "execution_count": null,
   "id": "d6f477d6-64a8-484e-a6aa-5ca442772bad",
   "metadata": {},
   "outputs": [],
   "source": [
    "False - False"
   ]
  },
  {
   "cell_type": "code",
   "execution_count": null,
   "id": "58d0848b-ee48-45c1-86cf-e2e1cee77e15",
   "metadata": {},
   "outputs": [],
   "source": [
    "False - True"
   ]
  },
  {
   "cell_type": "code",
   "execution_count": null,
   "id": "364b1995-e536-4bb5-a9b7-9c5230c3075f",
   "metadata": {},
   "outputs": [],
   "source": [
    "x = 2\n",
    "y = 3\n",
    "(x > y) - (x < y)"
   ]
  },
  {
   "cell_type": "code",
   "execution_count": null,
   "id": "78aabbf4-1dfb-416e-ac10-7faa51da6666",
   "metadata": {},
   "outputs": [],
   "source": [
    "x = 3\n",
    "y = 3\n",
    "(x > y) - (x < y)"
   ]
  },
  {
   "cell_type": "code",
   "execution_count": null,
   "id": "a324d320-d46c-47e4-a62d-034a0b52d23b",
   "metadata": {},
   "outputs": [],
   "source": [
    "x = 4\n",
    "y = 3\n",
    "(x > y) - (x < y)"
   ]
  },
  {
   "cell_type": "code",
   "execution_count": null,
   "id": "73d7630d-2cae-45d2-8d8c-4769095ad409",
   "metadata": {},
   "outputs": [],
   "source": []
  },
  {
   "cell_type": "markdown",
   "id": "bf1ff75b-e415-4c73-a130-245bb05e2d00",
   "metadata": {},
   "source": [
    "- Ist x kleiner als y, so ist `x > y` gleich `False` und `x < y` gleich `True`.  \n",
    "Der Wert von `(x > y) - (x < y)` ist also `False - True`, also -1.\n",
    "\n",
    "- Ist x gleich y, so ist `x > y` gleich  `False` und `x < y` gleich  `False`.  \n",
    "Der Wert von `(x > y) - (x < y)` ist also `False - False`, also 0.\n",
    "\n",
    "- Ist x gr&ouml;sser y, so ist `x > y` gleich  `True` und `x < y` gleich `False`.  \n",
    "Der Wert von `(x > y) - (x < y)` ist also `True - False`, also 1."
   ]
  },
  {
   "cell_type": "markdown",
   "id": "ca2efe30-acd1-4985-aba3-491d2d6d61d4",
   "metadata": {},
   "source": [
    "```\n",
    "'aceg' 'bcch' Wörter\n",
    " 0123   0123\n",
    "  i m    j n   \n",
    "\n",
    "'ab' bisheriges Resultat \n",
    "```\n",
    "- i: momentante Position im 1. Wort\n",
    "- m: L&auml;nge des 1. Worts\n",
    "- j: momentante Position im 2. Wort\n",
    "- n: L&auml;nge des 2. Worts\n",
    "\n",
    "\n",
    "**Aus welchem Wort kommt der n&auml;chste Buchstabe**?  \n",
    "\n",
    "Der n&auml;chster Buchstabe kommt aus dem 1. Wort falls\n",
    "- j >= n ( keine Buchstaben mehr im 2. Wort), oder\n",
    "- es hat noch Buchstaben im 1. Wort (i < m) und der i-te Buchstabe des 1. Worts ist kleiner als der j-te Buchstabe des 2. Worts.\n",
    "\n",
    "Der Ausdruck `(j >= n) or (i < m and word1[i] <= word2[j])` ist also wahr, falls\n",
    "der n&auml;chste Buchstabe aus dem 1. Wort kommt."
   ]
  },
  {
   "cell_type": "code",
   "execution_count": null,
   "id": "c35f578b-943e-4199-9247-49046af01a30",
   "metadata": {},
   "outputs": [],
   "source": [
    "word1 = 'aceg'\n",
    "word2 = 'bcch'\n",
    "merged_word = ''\n",
    "\n",
    "m = len(word1)\n",
    "n = len(word2)\n",
    "\n",
    "i = 0\n",
    "j = 0\n",
    "\n",
    "while i+j < m+n:\n",
    "    from_word1 = (j >= n) or (i < m and word1[i] <= word2[j])\n",
    "    if from_word1:\n",
    "        next_char = word1[i]\n",
    "        i = i + 1\n",
    "    if not from_word1:\n",
    "        next_char = word2[j]\n",
    "        j = j + 1\n",
    "\n",
    "    merged_word = merged_word + next_char\n",
    "\n",
    "print('Words:', word1, word2)\n",
    "print('Merged word:', merged_word)"
   ]
  },
  {
   "cell_type": "code",
   "execution_count": null,
   "id": "d6be966b-f9c8-46be-bc40-26481eb71441",
   "metadata": {},
   "outputs": [],
   "source": []
  },
  {
   "cell_type": "markdown",
   "id": "26320c72-21f2-4416-a12b-e8250cadd1ea",
   "metadata": {},
   "source": [
    "### Teste ob allen Zeichen eines Strings verschieden sind\n",
    "\n",
    "Wir testen, ob ein String, sage wir mit 10  Buchstaben, einen Buchstaben mehr als einmal enth&auml;lt.  \n",
    "Dazu gehen wir folgendermassen vor bis eine &Uuml;bereinstimmung (ein Match) gefunden wird:\n",
    "- Vergleiche das 1. Zeichen  mit dem 2., 3., ..., 10.\n",
    "- Vergleiche das 2. Zeichen  mit dem 3., 4., ..., 10.\n",
    "- $\\vdots$\n",
    "- Vergleiche das vorletzte Zeichen (9.)  mit dem letzten (10.)."
   ]
  },
  {
   "cell_type": "code",
   "execution_count": null,
   "id": "d4f56680-3146-48c9-8257-fa81da12b6a0",
   "metadata": {},
   "outputs": [],
   "source": [
    "letters = 'abcb'\n",
    "n = len(letters)\n",
    "i = 0\n",
    "\n",
    "no_match = True\n",
    "\n",
    "while i < n and no_match:\n",
    "    j = i + 1\n",
    "    while j < n and no_match:\n",
    "        # print(letters[i], letters[j])\n",
    "        no_match = (letters[i] != letters[j])\n",
    "        j = j + 1\n",
    "    i = i + 1\n",
    "\n",
    "if no_match:\n",
    "    print('Alle Zeiche sind verschieden')\n",
    "\n",
    "if not no_match:\n",
    "    print('Zeichen an den Positionen', i-1, 'und', j-1 ,'sind beide gleich', letters[i-1])"
   ]
  },
  {
   "cell_type": "code",
   "execution_count": null,
   "id": "f18edf05-63f5-4d46-aa19-497d023004b2",
   "metadata": {},
   "outputs": [],
   "source": []
  }
 ],
 "metadata": {
  "kernelspec": {
   "display_name": "Python 3! (ipykernel)",
   "language": "python",
   "name": "python3"
  },
  "language_info": {
   "codemirror_mode": {
    "name": "ipython",
    "version": 3
   },
   "file_extension": ".py",
   "mimetype": "text/x-python",
   "name": "python",
   "nbconvert_exporter": "python",
   "pygments_lexer": "ipython3",
   "version": "3.13.0"
  }
 },
 "nbformat": 4,
 "nbformat_minor": 5
}
