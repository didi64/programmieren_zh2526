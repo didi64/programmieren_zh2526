{
 "cells": [
  {
   "cell_type": "markdown",
   "id": "4f56c284-e24b-4513-81fa-e12fdebfbcb2",
   "metadata": {},
   "source": [
    "### Recap"
   ]
  },
  {
   "cell_type": "markdown",
   "id": "439a3a14-7712-4c37-8923-f94d636b3727",
   "metadata": {},
   "source": [
    "**Werte**:  \n",
    "Integer, Floats, Strings, Booleans (Wahrheitswerte)"
   ]
  },
  {
   "cell_type": "code",
   "execution_count": null,
   "id": "99765cc6-a7d4-42fb-b34f-5f969fdba454",
   "metadata": {},
   "outputs": [],
   "source": [
    "# Ist 12345 durch 3 teilbar?\n",
    "12345 % 3 == 0"
   ]
  },
  {
   "cell_type": "code",
   "execution_count": null,
   "id": "933eb03c-4e03-4bf5-9cf0-ce691f4d780f",
   "metadata": {},
   "outputs": [],
   "source": [
    "12345 // 3"
   ]
  },
  {
   "cell_type": "code",
   "execution_count": null,
   "id": "a1c2f5a4-7fa3-4398-a954-033f452685f2",
   "metadata": {},
   "outputs": [],
   "source": [
    "12347 % 3 "
   ]
  },
  {
   "cell_type": "code",
   "execution_count": null,
   "id": "47458e34-e92c-4e80-a1ae-85ddd622623a",
   "metadata": {},
   "outputs": [],
   "source": [
    "12345 // 3"
   ]
  },
  {
   "cell_type": "code",
   "execution_count": null,
   "id": "40820195-3983-498b-8ac7-56e22fc1ae32",
   "metadata": {},
   "outputs": [],
   "source": [
    "3 * 4115 + 2 == 12347"
   ]
  },
  {
   "cell_type": "code",
   "execution_count": null,
   "id": "c3fd9fe1-00d2-4a0e-b0e0-5b57e3eef8f3",
   "metadata": {},
   "outputs": [],
   "source": [
    "# Quadratwurzel\n",
    "wurzel_aus_2 = 2**0.5"
   ]
  },
  {
   "cell_type": "code",
   "execution_count": null,
   "id": "52581549-af21-483f-83a0-cdfddda52177",
   "metadata": {},
   "outputs": [],
   "source": [
    "wurzel_aus_2**2 == 2"
   ]
  },
  {
   "cell_type": "code",
   "execution_count": null,
   "id": "90c2b930-7e6e-4264-bf37-0a6d5827799c",
   "metadata": {},
   "outputs": [],
   "source": [
    "wurzel_aus_2**2 - 2"
   ]
  },
  {
   "cell_type": "code",
   "execution_count": null,
   "id": "79c7f49d-6d1b-47cb-b7c6-e38032bc5a2f",
   "metadata": {},
   "outputs": [],
   "source": [
    "# teste, ob wurzel_aus_2**2 nahe bei 2 liegt\n",
    "epsilon = 10**-15  # Schranke fuer Fehler\n",
    "abweichung =  wurzel_aus_2**2 - 2\n",
    "-epsilon < abweichung and abweichung < epsilon "
   ]
  },
  {
   "cell_type": "code",
   "execution_count": 10,
   "id": "a1d94eea-9443-4826-9895-8537e486015b",
   "metadata": {},
   "outputs": [
    {
     "data": {
      "text/plain": [
       "'h'"
      ]
     },
     "execution_count": 10,
     "metadata": {},
     "output_type": "execute_result"
    }
   ],
   "source": [
    "# Strings\n",
    "word = 'hallo'\n",
    "word[0]  # erstet Buchstabe"
   ]
  },
  {
   "cell_type": "code",
   "execution_count": 11,
   "id": "2f6f1e27-5b2c-4351-bfe1-09fd637090c2",
   "metadata": {},
   "outputs": [
    {
     "name": "stdout",
     "output_type": "stream",
     "text": [
      "erste Zeile\n",
      "zweite Zeile\n"
     ]
    }
   ],
   "source": [
    "# Strings, Spezialzeichen\n",
    "text_mit_zeilenumbruch = 'erste Zeile\\nzweite Zeile'\n",
    "print(text_mit_zeilenumbruch)"
   ]
  },
  {
   "cell_type": "code",
   "execution_count": 13,
   "id": "41a76922-9226-4eda-88d4-dc797253c1be",
   "metadata": {},
   "outputs": [
    {
     "name": "stdout",
     "output_type": "stream",
     "text": [
      "erste Zeile\n",
      "\n",
      "zweite Zeile\n",
      "------------\n"
     ]
    }
   ],
   "source": [
    "# Strings kann man addieren und mit Integern multiplizieren\n",
    "line1 = 'erste Zeile'\n",
    "line2 = 'zweite Zeile'\n",
    "msg = line1 + '\\n'*2 + line2 + '\\n' + '-'*len(line2)\n",
    "print(msg)"
   ]
  },
  {
   "cell_type": "code",
   "execution_count": null,
   "id": "4b705193-338d-4226-83f8-3764b7af6fe5",
   "metadata": {},
   "outputs": [],
   "source": [
    "# Boolsche Ausdruecke\n",
    "# ist die Antwort ja oder nein?\n",
    "answer = 'jein'\n",
    "answer == 'ja' or answer == 'nein'"
   ]
  },
  {
   "cell_type": "code",
   "execution_count": null,
   "id": "6d20ebe0-ee51-4c01-882d-28d527c2b279",
   "metadata": {},
   "outputs": [],
   "source": [
    "# Boolscher Ausdruck einer Variable zuweisen\n",
    "answer = 'jein'\n",
    "is_ja_or_nein = answer == 'ja' or answer == 'nein'\n",
    "is_ja_or_nein"
   ]
  },
  {
   "cell_type": "code",
   "execution_count": null,
   "id": "df9d7272-29bd-4483-9695-28fb928b97e3",
   "metadata": {},
   "outputs": [],
   "source": [
    "# Bedinge Anweisungen, Eingeruecker Code wird nur ausgefuehrt, falls Ausdruck nach if wahr\n",
    "if is_ja_or_nein:\n",
    "    print('Die Antwort ist', answer)\n",
    "if not is_ja_or_nein:\n",
    "    print(answer, 'ist keine gueltige Antwort')"
   ]
  },
  {
   "cell_type": "code",
   "execution_count": 1,
   "id": "01e0aed2-bcbd-49f2-91fd-14e8bac06d58",
   "metadata": {},
   "outputs": [
    {
     "name": "stdout",
     "output_type": "stream",
     "text": [
      "h\n",
      "a\n",
      "l\n",
      "l\n",
      "o\n"
     ]
    }
   ],
   "source": [
    "# while Schleife\n",
    "dot_terminated_word = 'hallo.'\n",
    "\n",
    "i = 0\n",
    "while dot_terminated_word[i] != '.':\n",
    "    print(dot_terminated_word[i])\n",
    "    i = i + 1"
   ]
  },
  {
   "cell_type": "code",
   "execution_count": 3,
   "id": "7ecf1819-e354-4145-85ad-c85a9525f0e9",
   "metadata": {},
   "outputs": [
    {
     "data": {
      "text/plain": [
       "'hallo'"
      ]
     },
     "execution_count": 3,
     "metadata": {},
     "output_type": "execute_result"
    }
   ],
   "source": [
    "# while Schleife\n",
    "dot_terminated_word = 'hallo.'\n",
    "word = ''\n",
    "i = 0\n",
    "while dot_terminated_word[i] != '.':\n",
    "    word = word + dot_terminated_word[i]\n",
    "    i = i + 1\n",
    "word"
   ]
  },
  {
   "cell_type": "code",
   "execution_count": 5,
   "id": "bd68c101-4642-4970-a049-cc9ae0b9b37a",
   "metadata": {},
   "outputs": [
    {
     "data": {
      "text/plain": [
       "'hallo'"
      ]
     },
     "execution_count": 5,
     "metadata": {},
     "output_type": "execute_result"
    }
   ],
   "source": [
    "# while Schleife\n",
    "dot_terminated_word = 'hallo.'\n",
    "n = len(dot_terminated_word) - 1\n",
    "word = ''\n",
    "i = 0\n",
    "while i < n:\n",
    "    word = word + dot_terminated_word[i]\n",
    "    i = i + 1\n",
    "word"
   ]
  },
  {
   "cell_type": "code",
   "execution_count": null,
   "id": "e5da1708-6e5d-44c4-9943-2e2b0d31ee2a",
   "metadata": {},
   "outputs": [],
   "source": []
  }
 ],
 "metadata": {
  "kernelspec": {
   "display_name": "Python 3! (ipykernel)",
   "language": "python",
   "name": "python3"
  },
  "language_info": {
   "codemirror_mode": {
    "name": "ipython",
    "version": 3
   },
   "file_extension": ".py",
   "mimetype": "text/x-python",
   "name": "python",
   "nbconvert_exporter": "python",
   "pygments_lexer": "ipython3",
   "version": "3.13.0"
  }
 },
 "nbformat": 4,
 "nbformat_minor": 5
}
