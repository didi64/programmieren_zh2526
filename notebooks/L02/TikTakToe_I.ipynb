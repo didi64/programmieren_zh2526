{
 "cells": [
  {
   "cell_type": "markdown",
   "id": "f217cff7-2855-42bb-860d-ee2ed7eda54d",
   "metadata": {},
   "source": [
    "### TikTakToe (copy-past programming)"
   ]
  },
  {
   "cell_type": "markdown",
   "id": "88da4ac4-86b0-468d-a00e-7f59f481551e",
   "metadata": {},
   "source": [
    "Wir wollen ein einfaches Tik-Tak-Toe programmieren.  \n",
    "Ein Spieler, Spieler X malt `X` in ein leeres Feld, sein Gegner O malt ein `O`.  \n",
    "Ein leeres Feld ist mit `.` markiert. \n",
    "Der String `board = 'X.O.XO..X'` steht also f&uuml;r folgende Position:\n",
    "\n",
    "```\n",
    "X.O\n",
    ".XO\n",
    "...\n",
    "```\n",
    "\n",
    "Um die Position in dieser Form auszugeben, f&uuml;gen wir in String `board` Zeilenumbr&uuml;che an den Positionen\n",
    "3 und 6 ein:  \n",
    "`'X.O.XO...'` -> `'X.O\\n.XO\\n...'`."
   ]
  },
  {
   "cell_type": "code",
   "execution_count": null,
   "id": "583fbac0-3d21-48b8-96c6-c4808785f71f",
   "metadata": {},
   "outputs": [],
   "source": [
    "# Spielfeld ausgeben\n",
    "board = 'X.O.XO...'\n",
    "out = ''\n",
    "j = 0 \n",
    "\n",
    "while j < 9:\n",
    "    if j == 3 or j == 6: \n",
    "        out = out + '\\n'\n",
    "    out = out + board[j]\n",
    "    j = j + 1\n",
    "print(out)"
   ]
  },
  {
   "cell_type": "markdown",
   "id": "30ff9440-f1d6-408a-b72a-a9c519866e3f",
   "metadata": {},
   "source": [
    "Um z.B. das Feld unten rechts, `board[8]`, mit einem `X` zu &uuml;berschreiben,\n",
    "kopieren wir den String `board`, ersetzten aber das Zeichen mit Index 8 durch `X`.  \n",
    "**Beachte**: Strings kann man nicht modifizieren. Deshalb m&uuml;ssen wir einen neuen String erstellen."
   ]
  },
  {
   "cell_type": "code",
   "execution_count": null,
   "id": "35fa2473-4bed-4b8c-9cd7-3aad91fb5782",
   "metadata": {},
   "outputs": [],
   "source": [
    "# ueberschreibe Feld idx mit player\n",
    "idx = 8\n",
    "player = 'X'\n",
    "board = 'X.O.XO...'\n",
    "new_board = ''\n",
    "\n",
    "k = 0\n",
    "while k < 9:\n",
    "    if k != idx:\n",
    "        new_board = new_board + board[k]\n",
    "    if k == idx:\n",
    "        new_board = new_board + player\n",
    "    k = k + 1\n",
    "\n",
    "board = new_board\n",
    "board"
   ]
  },
  {
   "cell_type": "markdown",
   "id": "2d6936c2-50a6-4ad0-81d2-59b3a61bca33",
   "metadata": {},
   "source": [
    "Um zu testen, ob z.B. Spieler `X` gewonnen hat,\n",
    "testen wir ob eine Zeile, Spalte oder Diagonale nur aus `X` besteht.  \n",
    "Da die Felder wie folgt nummeriert sind,\n",
    "```\n",
    "012\n",
    "345\n",
    "678\n",
    "```\n",
    "besteht z.B. die erste Spalte nur aus `X`, falls der Ausdruck  \n",
    "`'X' == board[0] == board[3] == board[6]` gleich `True` ist."
   ]
  },
  {
   "cell_type": "code",
   "execution_count": null,
   "id": "516528d6-00d5-42e3-923b-85e19a13116e",
   "metadata": {},
   "outputs": [],
   "source": [
    "# hat ein Spieler gewonnen?\n",
    "# 012\n",
    "# 345\n",
    "# 678\n",
    "\n",
    "board = 'X.O.XO..X'\n",
    "player = 'X'\n",
    "\n",
    "has_won = (\n",
    "    (player == board[0] == board[1] == board[2]) or\n",
    "    (player == board[3] == board[4] == board[5]) or\n",
    "    (player == board[6] == board[7] == board[8]) or\n",
    "    (player == board[0] == board[3] == board[6]) or\n",
    "    (player == board[1] == board[4] == board[7]) or\n",
    "    (player == board[2] == board[5] == board[8]) or\n",
    "    (player == board[6] == board[7] == board[8]) or\n",
    "    (player == board[0] == board[4] == board[8]) or\n",
    "    (player == board[2] == board[4] == board[6]) \n",
    ")\n",
    "\n",
    "has_won"
   ]
  },
  {
   "cell_type": "markdown",
   "id": "44b0209f-1b55-4903-b628-8f28084db061",
   "metadata": {},
   "source": [
    "Um eine erste Version unseres Spiel zu bekommen, sind die einzelnen Teile so\n",
    "zusammenzusetzen.\n",
    "\n",
    "\n",
    "```python\n",
    "board = '.........'\n",
    "players = 'X0'\n",
    "player_to_move = 0\n",
    "is_tiktak = False\n",
    "\n",
    "i = 0\n",
    "while i < 9 and not is_tiktak:\n",
    "    i = i + 1\n",
    "    idx = int(input('Feld')) - 1\n",
    "    <falls gewähltes Feld frei, markiere es mit dem Zeichen des Spielers am Zug>\n",
    "    <Spielfeld ausgeben>\n",
    "    <pruefe ob Spieler am Zug ein tiktak (gewonnen) hatg>\n",
    "    <Falls nein, git Zugrecht weiter>\n",
    "\n",
    "<gib aus, wer gewonnen hat>\n",
    "```"
   ]
  },
  {
   "cell_type": "code",
   "execution_count": null,
   "id": "2ac482fc-46f5-4038-9f15-56f934470360",
   "metadata": {},
   "outputs": [],
   "source": [
    "board = 9 * '.'\n",
    "players = 'X0'\n",
    "player_to_move = 0\n",
    "is_tiktak = False  # hat ein Spieler 3 Steine in einer Zeile, Spalte oder Diagonale\n",
    "\n",
    "i = 0\n",
    "while i < 9 and not is_tiktak:\n",
    "    i = i + 1\n",
    "    player = players[player_to_move]\n",
    "    idx = int(input('Feld')) - 1\n",
    "    # falls gewähltes Feld frei, markiere es mit dem Zeichen des Spielers am Zug\n",
    "    if board[idx] == '.':\n",
    "        new_board = ''\n",
    "        k = 0\n",
    "        while k < 9:\n",
    "            if k == idx:\n",
    "                new_board = new_board + player\n",
    "            if k != idx:\n",
    "                new_board = new_board + board[k]\n",
    "            k = k + 1\n",
    "        board = new_board\n",
    "\n",
    "    # gib die Spielposition aus\n",
    "    out = ''\n",
    "    j = 0 \n",
    "    while j < 9:\n",
    "        if j > 0 and j % 3 == 0:\n",
    "            out = out + '\\n'\n",
    "        out = out + board[j]\n",
    "        j = j + 1\n",
    "    print()\n",
    "    print(out)   \n",
    "    print()\n",
    "\n",
    "    # pruefe ob der Spieler am Zug ein tiktak (gewonnen) hat\n",
    "    is_tiktak = (\n",
    "        (player == board[0] == board[1] == board[2]) or\n",
    "        (player == board[3] == board[4] == board[5]) or\n",
    "        (player == board[6] == board[7] == board[8]) or\n",
    "        (player == board[0] == board[3] == board[6]) or\n",
    "        (player == board[1] == board[4] == board[7]) or\n",
    "        (player == board[2] == board[5] == board[8]) or\n",
    "        (player == board[6] == board[7] == board[8]) or\n",
    "        (player == board[0] == board[4] == board[8]) or\n",
    "        (player == board[2] == board[4] == board[6]) \n",
    "    )\n",
    "    # was kein Gewinner, git das Zugrecht weiter\n",
    "    if not is_tiktak:  \n",
    "        player_to_move = 1 - player_to_move\n",
    "\n",
    "# gib aus, wer gewonnen hat\n",
    "if not is_tiktak:\n",
    "    print('It is a tie!')\n",
    "if is_tiktak:\n",
    "    print('The winner is:',  players[player_to_move])"
   ]
  },
  {
   "cell_type": "code",
   "execution_count": null,
   "id": "f18edf05-63f5-4d46-aa19-497d023004b2",
   "metadata": {},
   "outputs": [],
   "source": []
  }
 ],
 "metadata": {
  "kernelspec": {
   "display_name": "Python 3! (ipykernel)",
   "language": "python",
   "name": "python3"
  },
  "language_info": {
   "codemirror_mode": {
    "name": "ipython",
    "version": 3
   },
   "file_extension": ".py",
   "mimetype": "text/x-python",
   "name": "python",
   "nbconvert_exporter": "python",
   "pygments_lexer": "ipython3",
   "version": "3.13.0"
  }
 },
 "nbformat": 4,
 "nbformat_minor": 5
}
