{
 "cells": [
  {
   "cell_type": "markdown",
   "id": "651231a4-644f-4562-8730-49263465d824",
   "metadata": {},
   "source": [
    "### Zahlenratespiel\n",
    "Eine Geheimzahl soll erraten werden. \n",
    "Der Benutzer wird solange nach einer Zahl gefragt, bis er die Geheimzahl erraten hat.\n",
    "Nach jedem Versuch wird mitgeteilt, ob er zu klein, zu gross oder richtig geraten wurde. "
   ]
  },
  {
   "cell_type": "code",
   "execution_count": 1,
   "id": "386f57db-76a4-49db-b140-5852c8661e53",
   "metadata": {},
   "outputs": [
    {
     "name": "stdin",
     "output_type": "stream",
     "text": [
      "Zahl? 23\n"
     ]
    },
    {
     "name": "stdout",
     "output_type": "stream",
     "text": [
      "23\n"
     ]
    }
   ],
   "source": [
    "guess = int(input('Zahl?'))\n",
    "print(guess)"
   ]
  },
  {
   "cell_type": "code",
   "execution_count": 3,
   "id": "26098793-cda2-433e-997b-6fd1e17a6972",
   "metadata": {},
   "outputs": [
    {
     "name": "stdin",
     "output_type": "stream",
     "text": [
      "Zahl? 42\n"
     ]
    },
    {
     "name": "stdout",
     "output_type": "stream",
     "text": [
      "Gratuliere! Du hast die Zahl erraten\n"
     ]
    }
   ],
   "source": [
    "secret = 42  # zu erratende Geheimzahl\n",
    "solved = False\n",
    "\n",
    "while not solved:\n",
    "    guess = int(input('Zahl?'))\n",
    "    if guess == secret:\n",
    "        solved = True\n",
    "        print('Gratuliere! Du hast die Zahl erraten')\n",
    "    if guess < secret:\n",
    "        print(guess, 'ist zu klein')\n",
    "    if guess > secret:\n",
    "        print(guess, 'ist zu gross')"
   ]
  },
  {
   "cell_type": "code",
   "execution_count": null,
   "id": "cab12831-f5e9-44f4-a015-874d7feba00c",
   "metadata": {},
   "outputs": [],
   "source": []
  },
  {
   "cell_type": "markdown",
   "id": "8ddf9d33-4e75-4dee-a89f-10d104c7037b",
   "metadata": {},
   "source": [
    "### Divide and Conquor  \n",
    "Divide and Conquor ist eine L&ouml;sungstrategy bei der das Problem auf ein oder mehrere\n",
    "Teilprobleme des gleichen Typs reduziert wird.\n",
    "\n",
    "Angewandt auf unser Zahlenratespiel sieht das so aus.\n",
    "Um eine Zahl von 1 bis 15 zu erraten, raten wir die Zahl $8$ in der Mitte.\n",
    "Liegen wir falsch,\n",
    "reduziert sich das Problem auf die einfacheren Teilprobleme, die Zahl im linken oder rechten Teilbaum zu erraten.  \n",
    "**Die maximale Anzahl Versuche ist die H&ouml;he (4) des Baumes**.\n",
    "\n",
    "<img src=\"/files/images/guessing_game_tree.svg\">\n",
    "\n",
    "Suchbaum: Die Zahlen 1 bis 15 sind von links nach rechts angeordnet.  \n",
    "Suchpfad f&uuml;r die Zahl $11$:\n",
    "1. Versuch: Zahl zw. 1 und 15, Mitte ist (1+15)//2 = 8 (zu klein)\n",
    "2. Versuch: Zahl zw. 9 und 15, Mitte ist (9+15)//2 = 12 (zu gross)\n",
    "3. Versuch: Zahl zw. 9 und 11, Mitte ist (9+11)//2 = 10 (zu klein)\n",
    "4. Versuch: Zahl zw. 11 und 11, Mitte ist (11+11)//2 = 11 (richtig)\n",
    "\n",
    "Hat man nicht genau eine 2er Potenz aufeinanderfolgender Zahlen, so hat der Suchbaum\n",
    "nicht immer 2 Kinder.\n",
    "\n",
    "<img src=\"/files/images/guessing_game_tree_10.svg\">  \n",
    "\n",
    "Suchbaum: Die Zahlen 1 bis 10 sind von links nach rechts angeordnet.  \n",
    "Suchpfad f&uuml;r die Zahl $4$:\n",
    "1. Versuch: Zahl zw. 1 und 10, Mitte ist (1+10)//2 = 5 (zu gross)\n",
    "2. Versuch: Zahl zw. 1 und 4, Mitte ist (1+4)//2 = 2 (zu klein)\n",
    "3. Versuch: Zahl zw. 3 und 4, Mitte ist (3+4)//2 = 3 (zu klein)\n",
    "4. Versuch: Zahl zw. 4 und 4, Mitte ist 4."
   ]
  },
  {
   "cell_type": "code",
   "execution_count": null,
   "id": "b23d1252-89c2-4cf8-bd1e-6d76dca5fe2a",
   "metadata": {},
   "outputs": [],
   "source": []
  },
  {
   "cell_type": "markdown",
   "id": "830d2174-3e3e-44cd-81d0-48dab3659dc7",
   "metadata": {},
   "source": [
    "Um eine Zahl aus einer Menge mit $2^n-1$ **aufeinanderfolgenden** Zahlen zu erraten, braucht man\n",
    "maximal $n$ Versuche.\n",
    "Exemplarisch betrachten wir Mengen mit $1$, $3$, $7$ und $15$ Elementen.\n",
    "\n",
    "- $M = \\{1\\}$: $1$ Versuch.\n",
    "- $M = \\{1, 2, 3\\}$: Wir raten $2$ im ersten Versuch. Liegen wir falsch, liegt die Zahl in einer $1$-elementigen Menge,\n",
    "  entweder $\\{1\\}$ oder $\\{3\\}$. Dieses Restproblem k&ouml;nnen wir in $1$ Versuch l&ouml;sen.\n",
    "- $M = \\{1,\\ldots, 7\\}$: Wir raten $4$ im ersten Versuch. Liegen wir falsch, liegt die Zahl in einer $3$-elementigen Menge,\n",
    "  entweder $\\{1,2,3\\}$ oder $\\{5,6,7\\}$. Dieses Restproblem k&ouml;nnen wir in 2 Versuchen l&ouml;sen.\n",
    "- $M = \\{1,\\ldots 15\\}$: Wir raten $8$ im ersten Versuch. Liegen wir falsch, liegt die Zahl in einer $7$-elementigen Menge,\n",
    "  entweder $\\{1,\\ldots,7\\}$ oder $\\{8,\\ldots,15\\}$. Dieses Restproblem k&ouml;nnen wir in 3 Versuchen l&ouml;sen."
   ]
  },
  {
   "cell_type": "markdown",
   "id": "a90a03da-ac8e-403f-a396-4b2ea9431ee1",
   "metadata": {},
   "source": [
    "**Wieviele Versuche** braucht man maximal, um eine Zahl von 1 bis 1000 zu erraten?  \n",
    "Eine Zahl von 1 bis $511=2^9-1$ findet man in max. 9 Versuchen.  \n",
    "Eine Zahl von 1 bis $1023=2^{10}-1$ findet man in max. 10 Versuchen.  \n",
    "Da $2^9= 512 \\leq 1000 < 2^{10} = 1024$ brauch man also h&ouml;chstens $10$ Versuchen.  "
   ]
  },
  {
   "cell_type": "code",
   "execution_count": 27,
   "id": "a3f104fa-5419-4b9e-9384-2aab1093e001",
   "metadata": {},
   "outputs": [
    {
     "data": {
      "text/plain": [
       "True"
      ]
     },
     "execution_count": 27,
     "metadata": {},
     "output_type": "execute_result"
    }
   ],
   "source": [
    "# 9 Versuche genuegen i.A nicht, 10 jedoch schon\n",
    "2**9 <= 1000 < 2**10"
   ]
  },
  {
   "cell_type": "code",
   "execution_count": null,
   "id": "9cf0ffeb-0499-42ef-be84-6416a51af460",
   "metadata": {},
   "outputs": [],
   "source": []
  },
  {
   "cell_type": "code",
   "execution_count": 55,
   "id": "ad96676c-d3da-4b2d-b2a9-1d7fc164f2f0",
   "metadata": {},
   "outputs": [
    {
     "name": "stdout",
     "output_type": "stream",
     "text": [
      "Errate Zahl zwischen 1 und 10000\n",
      "42 ist richtig. Anzahl Versuche: 13\n"
     ]
    }
   ],
   "source": [
    "# Zahl zwischen lower_ound und upper_bound erraten (Grenzen eingeschlossen)\n",
    "lower_bound = 1\n",
    "upper_bound = 10_000\n",
    "secret = 42\n",
    "n_tries = 0\n",
    "\n",
    "print('Errate Zahl zwischen', lower_bound, 'und', upper_bound)\n",
    "\n",
    "found = False\n",
    "while lower_bound <= upper_bound and not found:\n",
    "    guess = (lower_bound + upper_bound) // 2\n",
    "    n_tries = n_tries + 1\n",
    "    # print('Versuch', n_tries, guess)\n",
    "    if secret == guess:\n",
    "        lower_bound = upper_bound  # stops loop\n",
    "        found = True\n",
    "        print(guess, 'ist richtig. Anzahl Versuche:', n_tries)\n",
    "    if secret > guess:\n",
    "        lower_bound = guess + 1\n",
    "    if secret < guess:\n",
    "        upper_bound = guess - 1"
   ]
  },
  {
   "cell_type": "code",
   "execution_count": null,
   "id": "c5726aaf-6fee-4f16-a804-c536e477fc93",
   "metadata": {},
   "outputs": [],
   "source": []
  },
  {
   "cell_type": "code",
   "execution_count": null,
   "id": "d4f56680-3146-48c9-8257-fa81da12b6a0",
   "metadata": {},
   "outputs": [],
   "source": [
    "letters = 'abcb'\n",
    "n = len(letters)\n",
    "i = 0\n",
    "\n",
    "no_match = True\n",
    "\n",
    "while i < n and no_match:\n",
    "    j = i + 1\n",
    "    while j < n and no_match:\n",
    "        # print(letters[i], letters[j])\n",
    "        no_match = (letters[i] != letters[j])\n",
    "        j = j + 1\n",
    "    i = i + 1\n",
    "\n",
    "if no_match:\n",
    "    print('Alle Zeiche sind verschieden')\n",
    "\n",
    "if not no_match:\n",
    "    print('Zeichen an den Positionen', i-1, 'und', j-1 ,'sind beide gleich', letters[i-1])"
   ]
  }
 ],
 "metadata": {
  "kernelspec": {
   "display_name": "Python 3! (ipykernel)",
   "language": "python",
   "name": "python3"
  },
  "language_info": {
   "codemirror_mode": {
    "name": "ipython",
    "version": 3
   },
   "file_extension": ".py",
   "mimetype": "text/x-python",
   "name": "python",
   "nbconvert_exporter": "python",
   "pygments_lexer": "ipython3",
   "version": "3.13.0"
  }
 },
 "nbformat": 4,
 "nbformat_minor": 5
}
