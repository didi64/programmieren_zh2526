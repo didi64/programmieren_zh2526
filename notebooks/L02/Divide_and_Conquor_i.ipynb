{
 "cells": [
  {
   "cell_type": "markdown",
   "id": "651231a4-644f-4562-8730-49263465d824",
   "metadata": {},
   "source": [
    "### Zahlenratespiel\n",
    "Eine Geheimzahl soll erraten werden. \n",
    "Der Benutzer wird solange nach einer Zahl gefragt, bis er die Geheimzahl erraten hat.\n",
    "Nach jedem Versuch wird mitgeteilt, ob er zu klein, zu gross oder richtig geraten wurde. "
   ]
  },
  {
   "cell_type": "code",
   "execution_count": null,
   "id": "386f57db-76a4-49db-b140-5852c8661e53",
   "metadata": {},
   "outputs": [],
   "source": [
    "guess = int(input('Zahl?'))\n",
    "print(guess)"
   ]
  },
  {
   "cell_type": "code",
   "execution_count": null,
   "id": "26098793-cda2-433e-997b-6fd1e17a6972",
   "metadata": {},
   "outputs": [],
   "source": [
    "secret = 24\n",
    "n_guess = 0\n",
    "solved = False\n",
    "\n",
    "while not solved:\n",
    "    n_guess += 1\n",
    "    guess = int(input('Zahl?'))\n",
    "    if guess == secret:\n",
    "        solved = True\n",
    "        print('Gratuliere! Du hast die Zahl erraten')\n",
    "    if guess < secret:\n",
    "        print(guess, 'ist zu klein')\n",
    "    if guess > secret:\n",
    "        print(guess, 'ist zu gross')"
   ]
  },
  {
   "cell_type": "code",
   "execution_count": null,
   "id": "cab12831-f5e9-44f4-a015-874d7feba00c",
   "metadata": {},
   "outputs": [],
   "source": []
  },
  {
   "cell_type": "markdown",
   "id": "8ddf9d33-4e75-4dee-a89f-10d104c7037b",
   "metadata": {},
   "source": [
    "### Divide and Conquor  \n",
    "Divide and Conquor ist eine L&ouml;sungstrategy bei der das Problem auf ein oder mehrere\n",
    "Teilprobleme des gleichen Typs reduziert wird.\n",
    "\n",
    "Angewandt auf unser Zahlenratespiel sieht das so aus.\n",
    "Um eine Zahl von 1 bis 15 zu erraten, raten wir die Zahl $8$ in der Mitte.\n",
    "Liegen wir falsch,\n",
    "reduziert sich das Problem auf das einfachere Teilproblem, die Zahl im linken oder rechten Teilbaum zu erraten.  \n",
    "\n",
    "<img src=\"/files/images/guessing_game_tree.svg\">"
   ]
  },
  {
   "cell_type": "markdown",
   "id": "830d2174-3e3e-44cd-81d0-48dab3659dc7",
   "metadata": {},
   "source": [
    "Um eine Zahl aus einer Menge mit $2^n-1$ aufeinanderfolgenden Zahlen zu erraten, braucht man\n",
    "maximal $n$ Versuche.\n",
    "Exemplarisch betrachten wir Mengen mit $1$, $3$, $7$ und $15$ Elementen.\n",
    "\n",
    "- $M = \\{1\\}$: $1$ Versuch.\n",
    "- $M = \\{1, 2, 3\\}$: Wir raten $2$ im ersten Versuch. Liegen wir falsch, liegt die Zahl in einer $1$-elementigen Menge,\n",
    "  entweder $\\{1\\}$ oder $\\{3\\}$. Dieses Restproblem k&ouml;nnen wir in $1$ Versuch l&ouml;sen.\n",
    "- $M = \\{1,\\ldots, 7\\}$: Wir raten $4$ im ersten Versuch. Liegen wir falsch, liegt die Zahl in einer $3$-elementigen Menge,\n",
    "  entweder $\\{1,2,3\\}$ oder $\\{5,6,7\\}$. Dieses Restproblem k&ouml;nnen wir in 2 Versuchen l&ouml;sen.\n",
    "- $M = \\{1,\\ldots 15\\}$: Wir raten $8$ im ersten Versuch. Liegen wir falsch, liegt die Zahl in einer $7$-elementigen Menge,\n",
    "  entweder $\\{1,\\ldots,7\\}$ oder $\\{8,\\ldots,15\\}$. Dieses Restproblem k&ouml;nnen wir in 3 Versuchen l&ouml;sen."
   ]
  },
  {
   "cell_type": "markdown",
   "id": "a90a03da-ac8e-403f-a396-4b2ea9431ee1",
   "metadata": {},
   "source": [
    "**Wieviele Versuche** braucht man maximal, um eine Zahl von 1 bis 1000 zu erraten?  \n",
    "H&auml;tte die Menge genau $1023=2^{10}-1$ Elemente, k&ouml;nnten wir die Zahl in maximal 10 Versuchen erraten.  \n",
    "H&auml;tte die Menge genau $511=2^9-1$ Elemente, k&ouml;nnten wir die Zahl in maximal 9 Versuchen erraten.  \n",
    "Man brauch also h&ouml;chstens $10$ Versuche.  "
   ]
  },
  {
   "cell_type": "code",
   "execution_count": null,
   "id": "a3f104fa-5419-4b9e-9384-2aab1093e001",
   "metadata": {},
   "outputs": [],
   "source": []
  },
  {
   "cell_type": "code",
   "execution_count": null,
   "id": "ad96676c-d3da-4b2d-b2a9-1d7fc164f2f0",
   "metadata": {},
   "outputs": [],
   "source": [
    "lower_bound = 1\n",
    "upper_bound = 10_000\n",
    "secret = 1234\n",
    "n_tries = 0\n",
    "\n",
    "print('Errate Zahl zwischen', lower_bound, 'und', upper_bound)\n",
    "\n",
    "while lower_bound < upper_bound:\n",
    "    guess = (lower_bound + upper_bound) // 2\n",
    "    n_tries = n_tries + 1\n",
    "    if secret == guess:\n",
    "        lower_bound = upper_bound  # stops loop\n",
    "    if secret > guess:\n",
    "        lower_bound = guess + 1\n",
    "    if secret < guess:\n",
    "        upper_bound = guess\n",
    "\n",
    "    print('Versuch', n_tries, guess)"
   ]
  },
  {
   "cell_type": "code",
   "execution_count": null,
   "id": "aa40f9b2-9c3e-4a5b-b2df-0ac5f97725f7",
   "metadata": {},
   "outputs": [],
   "source": []
  },
  {
   "cell_type": "code",
   "execution_count": null,
   "id": "d6be966b-f9c8-46be-bc40-26481eb71441",
   "metadata": {},
   "outputs": [],
   "source": []
  },
  {
   "cell_type": "code",
   "execution_count": null,
   "id": "d4f56680-3146-48c9-8257-fa81da12b6a0",
   "metadata": {},
   "outputs": [],
   "source": [
    "letters = 'abcb'\n",
    "n = len(letters)\n",
    "i = 0\n",
    "\n",
    "no_match = True\n",
    "\n",
    "while i < n and no_match:\n",
    "    j = i + 1\n",
    "    while j < n and no_match:\n",
    "        # print(letters[i], letters[j])\n",
    "        no_match = (letters[i] != letters[j])\n",
    "        j = j + 1\n",
    "    i = i + 1\n",
    "\n",
    "if no_match:\n",
    "    print('Alle Zeiche sind verschieden')\n",
    "\n",
    "if not no_match:\n",
    "    print('Zeichen an den Positionen', i-1, 'und', j-1 ,'sind beide gleich', letters[i-1])"
   ]
  }
 ],
 "metadata": {
  "kernelspec": {
   "display_name": "Python 3! (ipykernel)",
   "language": "python",
   "name": "python3"
  },
  "language_info": {
   "codemirror_mode": {
    "name": "ipython",
    "version": 3
   },
   "file_extension": ".py",
   "mimetype": "text/x-python",
   "name": "python",
   "nbconvert_exporter": "python",
   "pygments_lexer": "ipython3",
   "version": "3.13.0"
  }
 },
 "nbformat": 4,
 "nbformat_minor": 5
}
