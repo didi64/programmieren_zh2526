{
 "cells": [
  {
   "cell_type": "markdown",
   "id": "f12041aa-05ff-443c-938f-53bf22d4b5f0",
   "metadata": {},
   "source": [
    "### Auswerten von Ausdr&uuml;cken der Form  `x and y` und `x or y`\n",
    "\n",
    "Der Fall `x and y`:\n",
    "- Es wird versucht `x` auszuwerten.  \n",
    "  Hat `x` einen Wert der *false* ist, wird `y` nicht mehr angeschaut.  \n",
    "  Der Wert von `x and y` ist der Wert von `x`.\n",
    "\n",
    "  \n",
    "- Ist `x` *true*, wird versucht `y` auszuwerten.  \n",
    "  Hat `y` einen Wert, so ist dies der Wert von `x and y`.\n",
    "\n",
    "\n",
    "Der Fall `x or y`:\n",
    "- Es wird versucht `x` auszuwerten.  \n",
    "  Hat `x` einen Wert der *true* ist, wird `y` nicht mehr angeschaut.  \n",
    "  Der Wert von `x and y` ist der Wert von `x`.\n",
    "\n",
    "  \n",
    "- Ist `x` *false*, wird versucht `y` auszuwerten.  \n",
    "  Hat `y` einen Wert, so ist dies der Wert von `x and y`."
   ]
  },
  {
   "cell_type": "code",
   "execution_count": null,
   "id": "f9de179a-9842-4961-ae44-f29f1ea8a83d",
   "metadata": {},
   "outputs": [],
   "source": [
    "False or True  #False ist false, der Wert von True ist True"
   ]
  },
  {
   "cell_type": "code",
   "execution_count": null,
   "id": "1e27a8a2-2eaa-40ab-8ba6-59a4280a2b36",
   "metadata": {},
   "outputs": [],
   "source": [
    "word = 'abxy'\n",
    "'' or word  # der leere String '' ist false, der Wert von word ist 'abxy'"
   ]
  },
  {
   "cell_type": "code",
   "execution_count": null,
   "id": "81f83850-1525-4a87-a791-71ce73698be7",
   "metadata": {},
   "outputs": [],
   "source": [
    "m = len(word)\n",
    "i = 5\n",
    "character = 'c'\n",
    "word[i] < character  # Fehler, word[5] kann nicht Ausgewertet werden"
   ]
  },
  {
   "cell_type": "code",
   "execution_count": null,
   "id": "b038b34d-1efe-4b29-a7aa-0a009cc84c63",
   "metadata": {},
   "outputs": [],
   "source": [
    "i < m and word[i] < character  # i < m hat den Wert False"
   ]
  },
  {
   "cell_type": "markdown",
   "id": "91069d6c-6c80-46dc-963e-bd10b3a84875",
   "metadata": {},
   "source": [
    "### Anwendung"
   ]
  },
  {
   "cell_type": "markdown",
   "id": "ca2efe30-acd1-4985-aba3-491d2d6d61d4",
   "metadata": {},
   "source": [
    "**Gegeben** seien zwei **sortierte** Zeichenketten (W&ouml;rter), z.B. `'aceg'` und `'bcchxy'`.  \n",
    "**Ziel**: Sortierte Zeichenkette mit den Buchstaben beider Zeichenketten (`'abccceghxy'`).  \n",
    "**Vorgehen**: \n",
    "1. Starte mit i=0 und j=0 und einem leeren Zielwort.\n",
    "2. Wiederholen solange i kleiner als die L&auml;nge des 1. Worts oder  j kleiner als die L&auml;nge des 2. Worts:  \n",
    "   - Falls m&ouml;glich, f&uuml;ge das i-te Zeichen des 1. Wortes zum Zielwort hinzu und erh&ouml;he i um eins.\n",
    "   - Anderfalls, f&uuml;ge das j-te Zeichen des 2. Wortes zum Zielwort hinzu und erh&ouml;he j um eins.\n",
    "\n",
    "\n",
    "**Aus welchem Wort kommt der n&auml;chste Buchstabe**?  \n",
    "Momentane Situation  \n",
    "```\n",
    "Wort 1    Wort 2\n",
    "'aceg'    'bcchxy'  Wörter\n",
    " 0123      012345   Index der Buchstaben\n",
    "  i m       j n     Wert der Variabeln (i=1, m=3, j=1, n=5) \n",
    "\n",
    "'ab' bisheriges Zielwort\n",
    "```\n",
    "- m: L&auml;nge des 1. Worts\n",
    "- n: L&auml;nge des 2. Worts\n",
    "- i: momentane Position im 1. Wort\n",
    "- j: momentane Position im 2. Wort\n",
    "\n",
    "Der n&auml;chste Buchstabe kommt nur dann aus dem 1. Wort, falls   \n",
    "- i < m (es hat noch Buchstaben im 1. Wort), **und**\n",
    "- j >= n **oder** word1[i] <= word2[j],\n",
    "  keine Buchstaben mehr im 2. Wort oder der i-te Buchstabe des 1. Worts ist kleiner als der j-te Buchstabe des 2. Worts.\n",
    "\n",
    "\n",
    "Der Ausdruck `(i < m) and (j >= n or word1[i] <= word2[j])` ist also wahr, falls\n",
    "der n&auml;chste Buchstabe aus dem 1. Wort kommt."
   ]
  },
  {
   "cell_type": "code",
   "execution_count": null,
   "id": "c35f578b-943e-4199-9247-49046af01a30",
   "metadata": {},
   "outputs": [],
   "source": [
    "# Initialisierung der Variabeln\n",
    "word1 = 'aceg'\n",
    "word2 = 'bcchxy'\n",
    "merged_word = ''\n",
    "\n",
    "m = len(word1)\n",
    "n = len(word2)\n",
    "\n",
    "i = 0\n",
    "j = 0\n",
    "\n",
    "# Schleife\n",
    "while i < m or j < n:\n",
    "    from_word1 = (j >= n) or (i < m and word1[i] <= word2[j])\n",
    "\n",
    "    if from_word1:\n",
    "        merged_word = merged_word + word1[i]\n",
    "        i = i + 1\n",
    "    if not from_word1:\n",
    "        merged_word = merged_word + word2[j]\n",
    "        j = j + 1\n",
    "\n",
    "\n",
    "# Ausgabe der beiden Woerter und des Resultates\n",
    "print('Words:', word1, word2)\n",
    "print('Merged word:', merged_word)"
   ]
  },
  {
   "cell_type": "code",
   "execution_count": null,
   "id": "d6be966b-f9c8-46be-bc40-26481eb71441",
   "metadata": {},
   "outputs": [],
   "source": []
  },
  {
   "cell_type": "markdown",
   "id": "26320c72-21f2-4416-a12b-e8250cadd1ea",
   "metadata": {},
   "source": [
    "### Teste ob allen Zeichen eines Strings verschieden sind\n",
    "\n",
    "Wir testen, ob ein String, sage wir mit 10  Buchstaben, einen Buchstaben mehr als einmal enth&auml;lt.  \n",
    "Dazu gehen wir folgendermassen vor bis eine &Uuml;bereinstimmung (ein Match) gefunden wird:\n",
    "- Vergleiche das 1. Zeichen  mit dem 2., 3., ..., 10.\n",
    "- Vergleiche das 2. Zeichen  mit dem 3., 4., ..., 10.\n",
    "- $\\vdots$\n",
    "- Vergleiche das vorletzte Zeichen (9.)  mit dem letzten (10.)."
   ]
  },
  {
   "cell_type": "code",
   "execution_count": null,
   "id": "d4f56680-3146-48c9-8257-fa81da12b6a0",
   "metadata": {},
   "outputs": [],
   "source": [
    "letters = 'abcb'\n",
    "n = len(letters)\n",
    "i = 0\n",
    "\n",
    "no_match = True\n",
    "\n",
    "while i < n and no_match:\n",
    "    j = i + 1\n",
    "    while j < n and no_match:\n",
    "        # print(letters[i], letters[j])\n",
    "        no_match = (letters[i] != letters[j])\n",
    "        j = j + 1\n",
    "    i = i + 1\n",
    "\n",
    "if no_match:\n",
    "    print('Alle Zeiche sind verschieden')\n",
    "\n",
    "if not no_match:\n",
    "    print('Zeichen an den Positionen', i-1, 'und', j-1 ,'sind beide gleich', letters[i-1])"
   ]
  },
  {
   "cell_type": "code",
   "execution_count": null,
   "id": "a1fb6ee7-5e67-4216-86aa-761b2cfa120f",
   "metadata": {},
   "outputs": [],
   "source": [
    "%run -m nbf"
   ]
  },
  {
   "cell_type": "code",
   "execution_count": null,
   "id": "9eea4a53-b0ce-4550-8fc9-324ad88a9fa6",
   "metadata": {},
   "outputs": [],
   "source": []
  }
 ],
 "metadata": {
  "kernelspec": {
   "display_name": "Python 3! (ipykernel)",
   "language": "python",
   "name": "python3"
  },
  "language_info": {
   "codemirror_mode": {
    "name": "ipython",
    "version": 3
   },
   "file_extension": ".py",
   "mimetype": "text/x-python",
   "name": "python",
   "nbconvert_exporter": "python",
   "pygments_lexer": "ipython3",
   "version": "3.13.0"
  }
 },
 "nbformat": 4,
 "nbformat_minor": 5
}
