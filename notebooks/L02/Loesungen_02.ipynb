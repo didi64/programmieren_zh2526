{
 "cells": [
  {
   "cell_type": "markdown",
   "id": "03f86d84-fce8-493d-a8dd-cc5b3f323d0f",
   "metadata": {},
   "source": [
    "### L&ouml;sungen zu den Aufaben der Lektion 2"
   ]
  },
  {
   "cell_type": "code",
   "execution_count": 15,
   "id": "e111ba06-7e6f-4c9e-96d8-ae1c381d0e4a",
   "metadata": {},
   "outputs": [
    {
     "data": {
      "text/plain": [
       "bool"
      ]
     },
     "execution_count": 15,
     "metadata": {},
     "output_type": "execute_result"
    }
   ],
   "source": [
    "# Type eines Ausdrucks\n",
    "type(False)"
   ]
  },
  {
   "cell_type": "code",
   "execution_count": 14,
   "id": "c61f1edd-974e-4ed6-9b4b-a51deffe9a2c",
   "metadata": {},
   "outputs": [
    {
     "data": {
      "text/plain": [
       "False"
      ]
     },
     "execution_count": 14,
     "metadata": {},
     "output_type": "execute_result"
    }
   ],
   "source": [
    "# Default-Werte der Typen int, float, str und bool \n",
    "bool()  # analog fuer die anderen Typen"
   ]
  },
  {
   "cell_type": "markdown",
   "id": "8bbffcb2-84b9-49b9-8930-9da1df5d3887",
   "metadata": {},
   "source": [
    "1. Erstelle eine Tabelle, die zeigt, welche Typen sich immer, manchmal oder nie in welche anderen Typen umwandeln lassen.\n",
    "    |  von\\nach       |int|float|str|bool|\n",
    "    | :-:     |:-:|:-:  |:-:|:-: |\n",
    "    |**int**  |*    |immer  |immer  |immer |\n",
    "    |**float**|immer   |*  |immer  |immer |\n",
    "    |**str**  |manchmal    |manchmal  |*   |immer |\n",
    "    |**bool** |immer   |immer |immer  |*  |\n",
    "   \n",
    "    **Beachte**: Die Umwandlung in einen String und einen Boolean ist immer m&ouml;glich."
   ]
  },
  {
   "cell_type": "code",
   "execution_count": null,
   "id": "c5f5e647-b073-49db-a997-b657f0643858",
   "metadata": {},
   "outputs": [],
   "source": [
    "# Anzahl eingegebener Zeichen ausgeben\n",
    "answer = input('Gib Text ein:')\n",
    "n = len(answer)\n",
    "print('du hast', n, 'Zeichen eingegeben')"
   ]
  },
  {
   "cell_type": "code",
   "execution_count": 19,
   "id": "adfd937b-b32f-43c2-ab23-a1704529843b",
   "metadata": {},
   "outputs": [
    {
     "name": "stdin",
     "output_type": "stream",
     "text": [
      "Dein Name: ertewr\n",
      "Dein Jahrgang: 345\n"
     ]
    },
    {
     "name": "stdout",
     "output_type": "stream",
     "text": [
      "Hallo ertewr, du bist 1680 Jahre alt\n"
     ]
    }
   ],
   "source": [
    "# Alter aus Jahrgang berechnen\n",
    "name = input('Dein Name:')\n",
    "jahrgang = int(input('Dein Jahrgang:'))\n",
    "alter = 2025 - jahrgang\n",
    "msg = 'Hallo ' + name + ', du bist ' + str(alter) + ' Jahre alt'\n",
    "print(msg)"
   ]
  },
  {
   "cell_type": "code",
   "execution_count": null,
   "id": "c69c06e0-91d0-4c81-b3b9-b4a81ba4d842",
   "metadata": {},
   "outputs": [],
   "source": [
    "# Summe zweier eingegebenen Zahlen berechnen\n",
    "n = int(input('1. Zahl:'))\n",
    "m = int(input('1. Zahl:'))\n",
    "print('Dies Summe von', n, 'und', m, 'ist', n+m)"
   ]
  },
  {
   "cell_type": "code",
   "execution_count": 2,
   "id": "e22db182-edca-4152-9f4f-ee206dd58ce7",
   "metadata": {},
   "outputs": [
    {
     "name": "stdin",
     "output_type": "stream",
     "text": [
      "ja/nein ? jdsf\n",
      "ja/nein ? ja\n"
     ]
    },
    {
     "data": {
      "text/plain": [
       "'ja'"
      ]
     },
     "execution_count": 2,
     "metadata": {},
     "output_type": "execute_result"
    }
   ],
   "source": [
    "# Frage, bis ja oder nein eingegeben wird\n",
    "answer = input('ja/nein ?')\n",
    "while answer != 'ja' and answer != 'nein':\n",
    "    answer = input('ja/nein ?')\n",
    "\n",
    "answer"
   ]
  },
  {
   "cell_type": "code",
   "execution_count": 5,
   "id": "e98ceafc-b3bb-4dab-a743-86c6d6861547",
   "metadata": {},
   "outputs": [
    {
     "name": "stdin",
     "output_type": "stream",
     "text": [
      "Gib Text ein: aasada\n"
     ]
    },
    {
     "name": "stdout",
     "output_type": "stream",
     "text": [
      "du hast 4 a's eingegeben\n"
     ]
    }
   ],
   "source": [
    "# Gib Anzahl 'a's im eingegebenen Text aus\n",
    "answer = input('Gib Text ein:')\n",
    "n = len(answer)\n",
    "i = 0 \n",
    "count = 0\n",
    "\n",
    "while i < n:\n",
    "    if answer[i] == 'a':\n",
    "        count = count + 1\n",
    "    i = i + 1\n",
    "\n",
    "print('du hast', count, 'a\\'s eingegeben')"
   ]
  },
  {
   "cell_type": "code",
   "execution_count": 8,
   "id": "9a68cd46-df44-498f-b806-4119e07b0143",
   "metadata": {},
   "outputs": [
    {
     "name": "stdin",
     "output_type": "stream",
     "text": [
      "Gib 2 durch Leerschlag getrennte Woerter ein: saf asdf\n"
     ]
    },
    {
     "name": "stdout",
     "output_type": "stream",
     "text": [
      "Das erste WOrt ist saf\n"
     ]
    }
   ],
   "source": [
    "# Gib Text vor dem 1. Leerschlag aus\n",
    "answer = input('Gib 2 durch Leerschlag getrennte Woerter ein:')\n",
    "i = 0\n",
    "word = ''\n",
    "\n",
    "while answer[i] != ' ':\n",
    "    word = word + answer[i]\n",
    "    i = i + 1\n",
    "\n",
    "print('Das 1. Wort ist', word)"
   ]
  },
  {
   "cell_type": "code",
   "execution_count": 12,
   "id": "2171fc29-d3b8-4054-9098-45cf3d7630a5",
   "metadata": {},
   "outputs": [
    {
     "name": "stdin",
     "output_type": "stream",
     "text": [
      "Gib 2 durch Leerschlag getrennte Woerter ein: afasf asfas\n"
     ]
    },
    {
     "name": "stdout",
     "output_type": "stream",
     "text": [
      "Das 1. Wort ist afasf\n",
      "Das 2. Wort ist asfas\n"
     ]
    }
   ],
   "source": [
    "# Gib den Text nach dem 1. Leerschlag aus\n",
    "answer = input('Gib 2 durch Leerschlag getrennte Woerter ein:')\n",
    "n = len(answer)\n",
    "i = 0\n",
    "word_1 = ''\n",
    "word_2 = ''\n",
    "\n",
    "while answer[i] != ' ':\n",
    "    word_1 = word_1 + answer[i]\n",
    "    i = i + 1\n",
    "i = i + 1\n",
    "\n",
    "while i < n:\n",
    "    word_2 = word_2 + answer[i]\n",
    "    i = i + 1\n",
    "\n",
    "print('Das 2. Wort ist', word_2)"
   ]
  },
  {
   "cell_type": "code",
   "execution_count": null,
   "id": "a47e241f-2a97-48f9-ac04-1ef64adfadb8",
   "metadata": {},
   "outputs": [],
   "source": []
  }
 ],
 "metadata": {
  "kernelspec": {
   "display_name": "Python 3! (ipykernel)",
   "language": "python",
   "name": "python3"
  },
  "language_info": {
   "codemirror_mode": {
    "name": "ipython",
    "version": 3
   },
   "file_extension": ".py",
   "mimetype": "text/x-python",
   "name": "python",
   "nbconvert_exporter": "python",
   "pygments_lexer": "ipython3",
   "version": "3.13.0"
  }
 },
 "nbformat": 4,
 "nbformat_minor": 5
}
