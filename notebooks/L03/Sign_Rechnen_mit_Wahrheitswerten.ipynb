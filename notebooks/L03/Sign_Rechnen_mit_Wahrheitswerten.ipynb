{
 "cells": [
  {
   "cell_type": "markdown",
   "id": "7cbcb122-fecf-4f3e-b05c-38ec3a9e7bc7",
   "metadata": {},
   "source": [
    "### Rechnen mit Wahrheitswerten, die sign-Funktion\n",
    "- Welchen Wert haben die Ausdr&uuml;cke `True - False`, `False - False` und `False - True`?\n",
    "- Welcher Wert hat der Ausdruck `(x > y) - (x < y)` falls\n",
    "    - x= 2 und y = 3,\n",
    "    - x=3 und y = 3,\n",
    "    - x=4 und y = 3?\n",
    "- Welcher Wert hat der Ausdruck `(x > y) - (x < y)` falls x gr&ouml;sser, gleich oder kleiner als y ist?"
   ]
  },
  {
   "cell_type": "code",
   "execution_count": null,
   "id": "abb51d8e-b868-4679-b5c0-f1b11eed5c73",
   "metadata": {},
   "outputs": [],
   "source": [
    "True - False"
   ]
  },
  {
   "cell_type": "code",
   "execution_count": null,
   "id": "d6f477d6-64a8-484e-a6aa-5ca442772bad",
   "metadata": {},
   "outputs": [],
   "source": [
    "False - False"
   ]
  },
  {
   "cell_type": "code",
   "execution_count": null,
   "id": "58d0848b-ee48-45c1-86cf-e2e1cee77e15",
   "metadata": {},
   "outputs": [],
   "source": [
    "False - True"
   ]
  },
  {
   "cell_type": "code",
   "execution_count": null,
   "id": "364b1995-e536-4bb5-a9b7-9c5230c3075f",
   "metadata": {},
   "outputs": [],
   "source": [
    "x = 2\n",
    "y = 3\n",
    "(x > y) - (x < y)"
   ]
  },
  {
   "cell_type": "code",
   "execution_count": null,
   "id": "78aabbf4-1dfb-416e-ac10-7faa51da6666",
   "metadata": {},
   "outputs": [],
   "source": [
    "x = 3\n",
    "y = 3\n",
    "(x > y) - (x < y)"
   ]
  },
  {
   "cell_type": "code",
   "execution_count": null,
   "id": "a324d320-d46c-47e4-a62d-034a0b52d23b",
   "metadata": {},
   "outputs": [],
   "source": [
    "x = 4\n",
    "y = 3\n",
    "(x > y) - (x < y)"
   ]
  },
  {
   "cell_type": "markdown",
   "id": "bf1ff75b-e415-4c73-a130-245bb05e2d00",
   "metadata": {},
   "source": [
    "**Wert** des Ausdrucks `(x > y) - (x < y)` durch **Fallanalyse** bestimmen:\n",
    "- Ist x kleiner als y, so ist `x > y` gleich `False` und `x < y` gleich `True`.  \n",
    "Der Wert von `(x > y) - (x < y)` ist also `False - True`, also -1.\n",
    "\n",
    "- Ist x gleich y, so ist `x > y` gleich  `False` und `x < y` gleich  `False`.  \n",
    "Der Wert von `(x > y) - (x < y)` ist also `False - False`, also 0.\n",
    "\n",
    "- Ist x gr&ouml;sser y, so ist `x > y` gleich  `True` und `x < y` gleich `False`.  \n",
    "Der Wert von `(x > y) - (x < y)` ist also `True - False`, also 1.\n",
    "\n",
    "\n",
    "**Speziallfall**  \n",
    "Ist $y = 0$, so haben wir den Ausdruck `(x > 0) - (x < 0)`.  \n",
    "Es ist  \n",
    "$(x > 0) - (x < 0) =\\begin{cases}1&:\\text{$x$ positiv},\\\\ 0 &:\\text{$x$ ist $0$},\\\\-1&:\\text{$x$ negativ}. \\end{cases}$\n",
    "\n",
    "Die Funktion, welcher einer Zahl $x$, die Werte $-1$, $0$ und $1$ wie oben zuordnet, nennt man auch sie \n",
    "**sign**-Funktion ( sign = Vorzeichen)."
   ]
  },
  {
   "cell_type": "code",
   "execution_count": 2,
   "id": "d716f9ca-032f-49ce-b4ac-fe1d1d8782bc",
   "metadata": {},
   "outputs": [],
   "source": [
    "def sign(x):\n",
    "    return (x > 0) - (x < 0)"
   ]
  },
  {
   "cell_type": "code",
   "execution_count": 3,
   "id": "43b3e913-9eb6-4ced-9219-b45e3a4f8524",
   "metadata": {},
   "outputs": [
    {
     "data": {
      "text/plain": [
       "[-1, -1, 0, 1, 1]"
      ]
     },
     "execution_count": 3,
     "metadata": {},
     "output_type": "execute_result"
    }
   ],
   "source": [
    "xs = (-2, -1, -0, 1, 2)\n",
    "[sign(x) for x in xs]"
   ]
  },
  {
   "cell_type": "code",
   "execution_count": null,
   "id": "f18edf05-63f5-4d46-aa19-497d023004b2",
   "metadata": {},
   "outputs": [],
   "source": []
  }
 ],
 "metadata": {
  "kernelspec": {
   "display_name": "Python 3! (ipykernel)",
   "language": "python",
   "name": "python3"
  },
  "language_info": {
   "codemirror_mode": {
    "name": "ipython",
    "version": 3
   },
   "file_extension": ".py",
   "mimetype": "text/x-python",
   "name": "python",
   "nbconvert_exporter": "python",
   "pygments_lexer": "ipython3",
   "version": "3.13.0"
  }
 },
 "nbformat": 4,
 "nbformat_minor": 5
}
