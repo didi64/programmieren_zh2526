{
 "cells": [
  {
   "cell_type": "code",
   "execution_count": null,
   "id": "0e3f9580-1194-42d2-9be3-8f7784fde7ca",
   "metadata": {},
   "outputs": [],
   "source": [
    "def merge(word1, word2):\n",
    "    merged_word = ''\n",
    "\n",
    "    m = len(word1)\n",
    "    n = len(word2)\n",
    "\n",
    "    i = 0\n",
    "    j = 0\n",
    "\n",
    "    while i+j < m+n:\n",
    "        from_word1 = (j >= n) or (i < m and word1[i] <= word2[j])\n",
    "        if from_word1:\n",
    "            next_char = word1[i]\n",
    "            i = i + 1\n",
    "        if not from_word1:\n",
    "            next_char = word2[j]\n",
    "            j = j + 1\n",
    "\n",
    "        merged_word = merged_word + next_char\n",
    "    return merged_word\n",
    "\n",
    "\n",
    "def merge_sort(word):\n",
    "    n = len(word)\n",
    "    m = n // 2\n",
    "    if n <= 1:\n",
    "        sorted_word = word\n",
    "    else:\n",
    "        m = n // 2\n",
    "        sorted_word = merge(merge_sort(word[:m]), merge_sort(word[m:]))\n",
    "    return sorted_word"
   ]
  },
  {
   "cell_type": "code",
   "execution_count": null,
   "id": "3d14e5f4-126e-4d89-aeea-1ad15d92c81f",
   "metadata": {},
   "outputs": [],
   "source": [
    "merge('ace', 'bcc')"
   ]
  },
  {
   "cell_type": "code",
   "execution_count": null,
   "id": "f53bff87-17bb-44ce-b7e5-3cf05156223a",
   "metadata": {},
   "outputs": [],
   "source": [
    "merge_sort('foobar')"
   ]
  },
  {
   "cell_type": "code",
   "execution_count": null,
   "id": "16f8ae2c-e90b-42c8-bb06-31cb2b307cbf",
   "metadata": {},
   "outputs": [],
   "source": [
    "def merge(word1, word2):\n",
    "    merged_word = ''\n",
    "\n",
    "    m = len(word1)\n",
    "    n = len(word2)\n",
    "    \n",
    "    i = 0\n",
    "    j = 0\n",
    "    \n",
    "    for k in range(m+n):\n",
    "        from_word1 = (j >= n) or (i < m and word1[i] <= word2[j])\n",
    "        if from_word1:\n",
    "            next_char = word1[i]\n",
    "            i = i + 1\n",
    "        if not from_word1:\n",
    "            next_char = word2[j]\n",
    "            j = j + 1\n",
    "\n",
    "        merged_word = merged_word + next_char\n",
    "    return merged_word"
   ]
  },
  {
   "cell_type": "code",
   "execution_count": null,
   "id": "d6be966b-f9c8-46be-bc40-26481eb71441",
   "metadata": {},
   "outputs": [],
   "source": []
  },
  {
   "cell_type": "code",
   "execution_count": null,
   "id": "f18edf05-63f5-4d46-aa19-497d023004b2",
   "metadata": {},
   "outputs": [],
   "source": []
  }
 ],
 "metadata": {
  "kernelspec": {
   "display_name": "Python 3! (ipykernel)",
   "language": "python",
   "name": "python3"
  },
  "language_info": {
   "codemirror_mode": {
    "name": "ipython",
    "version": 3
   },
   "file_extension": ".py",
   "mimetype": "text/x-python",
   "name": "python",
   "nbconvert_exporter": "python",
   "pygments_lexer": "ipython3",
   "version": "3.13.0"
  }
 },
 "nbformat": 4,
 "nbformat_minor": 5
}
