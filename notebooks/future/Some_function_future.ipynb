{
 "cells": [
  {
   "cell_type": "markdown",
   "id": "61618e41-c3f1-4567-98d5-abfe7c82e407",
   "metadata": {},
   "source": [
    "### Collection of some functions"
   ]
  },
  {
   "cell_type": "code",
   "execution_count": 1,
   "id": "dc104416-75ce-48e4-9e9c-8b813442fb3a",
   "metadata": {},
   "outputs": [],
   "source": [
    "def guess(secret, lower_bound, upper_bound):\n",
    "    n_tries = 0\n",
    "    found = False\n",
    "    while lower_bound <= upper_bound and not found:\n",
    "        guess = (lower_bound + upper_bound) // 2\n",
    "        n_tries = n_tries + 1\n",
    "        # print('Versuch', n_tries, guess)\n",
    "        if secret == guess:\n",
    "            lower_bound = upper_bound  # stops loop\n",
    "            found = True\n",
    "        if secret > guess:\n",
    "            lower_bound = guess + 1\n",
    "        if secret < guess:\n",
    "            upper_bound = guess - 1\n",
    "    return guess"
   ]
  },
  {
   "cell_type": "code",
   "execution_count": 2,
   "id": "1af04930-7b1a-40be-ba2d-aadd5a2d6a94",
   "metadata": {},
   "outputs": [
    {
     "data": {
      "text/plain": [
       "True"
      ]
     },
     "execution_count": 2,
     "metadata": {},
     "output_type": "execute_result"
    }
   ],
   "source": [
    "all(guess(i, 1, 10000) == i for i in range(1, 10001))"
   ]
  },
  {
   "cell_type": "code",
   "execution_count": null,
   "id": "98b00c92-1c76-45d8-983a-56631d95dbae",
   "metadata": {},
   "outputs": [],
   "source": []
  }
 ],
 "metadata": {
  "kernelspec": {
   "display_name": "Python 3! (ipykernel)",
   "language": "python",
   "name": "python3"
  },
  "language_info": {
   "codemirror_mode": {
    "name": "ipython",
    "version": 3
   },
   "file_extension": ".py",
   "mimetype": "text/x-python",
   "name": "python",
   "nbconvert_exporter": "python",
   "pygments_lexer": "ipython3",
   "version": "3.13.0"
  }
 },
 "nbformat": 4,
 "nbformat_minor": 5
}
