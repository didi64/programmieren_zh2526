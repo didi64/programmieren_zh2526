{
 "cells": [
  {
   "cell_type": "markdown",
   "id": "afd47d38-c664-4680-89cf-df51d7816d6e",
   "metadata": {
    "editable": true,
    "slideshow": {
     "slide_type": ""
    },
    "tags": []
   },
   "source": [
    "### Die wichtigsten Handgriffe im Notebook\n",
    "[Offizielle Dokumentation](https://jupyterlab.readthedocs.io/en/4.2.x/index.html)"
   ]
  },
  {
   "cell_type": "markdown",
   "id": "d2b76a27-b668-4326-b14d-52cde372dc1e",
   "metadata": {
    "tags": []
   },
   "source": [
    "### Allgemeines\n",
    "  - Upload Pfeil 🠱: File in den im File-Window rechts ge&ouml;ffneten Ordner uploaden\n",
    "  - Blaues <span style=\"background-color:blue; color:white\">&nbsp;&nbsp;+&nbsp;&nbsp;</span> (Launcher): neues Notebook, Python File, Terminal, ... &ouml;ffnen   \n",
    "  - **Ctrl-B**, falls keine Codezelle angeklickt,  &ouml;ffnet/schliesst das File-Window\n",
    "  - Rechtsklick in File-Window: &ouml;ffnet Kontextmenu (neuer Ordner, neues File, ...)  \n",
    "  - Rechtsklick auf File im File-Window: &ouml;ffnet Kontextmenu (Umbenennen, L&ouml;schen, Copy + Paste, ...)  \n",
    "  - **Ctrl-S** speichert das Notebook (passiert automatisch alle 2')"
   ]
  },
  {
   "cell_type": "markdown",
   "id": "f020e20f-dbee-404f-835a-24b093f0d312",
   "metadata": {},
   "source": [
    "### Zellen\n",
    "Ein Notebook besteht aus Zellen.Es gibt 3 Arten von Zellen.\n",
    "Der default Zellentyp ist Code. Der Zellentyp kann im Toolbar dieses Fensters ausgew&auml;hlt werden (klicke auf ⌄ neben dem Wort Markdown).\n",
    "- Code: Zelleninhalt wird als Python-Code interpretiert.  \n",
    "  **shift-Enter** f&uuml;hrt den Code in der Code-Zelle aus und springt zur n&auml;chsten Zelle.  \n",
    "  **Ctrl-Enter** f&uuml;hrt den Code in der Code-Zelle aus und beh&auml;lt den Fokus auf dieser Zelle.\n",
    "  **Ctrl-z** macht &Auml;nderungen **in der Zelle**  r&uuml;ckg&auml;ngig.  \n",
    "  \n",
    "- Markdown: Diese Zelle ist eine Markdown-Zelle.  \n",
    "  Doppelklick auf eine Markdown Zelle zeigt den Markdown-Code an. Der Code l&auml;sst sich nun editieren.  \n",
    "  **Ctrl-Enter** produziert aus Markdown-Code dann wieder Markdown-Text.\n",
    "- Raw: Zelleninhalt ist einfach Text."
   ]
  },
  {
   "cell_type": "code",
   "execution_count": null,
   "id": "a0252f0a-9446-4244-b4e4-7fd94338932a",
   "metadata": {},
   "outputs": [],
   "source": [
    "# Dies ist eine Code Zelle\n",
    "print('Hello world!')"
   ]
  },
  {
   "cell_type": "raw",
   "id": "515921f7-d8b2-4b2a-b2d2-053cf330f514",
   "metadata": {},
   "source": [
    "Dies ist eine Raw-Zelle. Sie enthält einfach Text."
   ]
  },
  {
   "cell_type": "markdown",
   "id": "8d5615ce-60c1-4051-b9d9-9060338ad8a3",
   "metadata": {},
   "source": [
    "### Zellen verschieben und l&ouml;schen\n",
    "- Dr&uuml;cke **x** neben einer Zelle, um sie zu l&ouml;schen.\n",
    "- Dr&uuml;cke **z** neben der Zelle, um das r&uuml;ckg&auml;ngig zu machen   \n",
    "  (**Ctrl-z** macht &Auml;nderungen **in der Zelle**  r&uuml;ckg&auml;ngig).\n",
    "- Klickt man auf eine Zelle, erscheinen links oben in der Zelle Icons. Damit kann man die Zelle verschieben, l&ouml;schen, ..."
   ]
  },
  {
   "cell_type": "markdown",
   "id": "db68550a-60cd-468f-bce8-e48df2b16be5",
   "metadata": {
    "editable": true,
    "slideshow": {
     "slide_type": ""
    },
    "tags": []
   },
   "source": [
    "### Codebl&ouml;cke einr&uuml;cken und auskommentieren\n",
    "- **Ctrl-/**: Selektierter Codeblock wird kommentiert/auskommentiert.\n",
    "- **tab/shift-tab**:  Selektierter Codeblock wird einger&uuml;ckt/zur&uuml;ckger&uuml;ckt\n",
    "- **Fat-Cursor**: dr&uuml;cke **Alt** und ziehe den Cursor nach unten.  \n",
    "  Der Cursor wird lang. Es lassen sich nun mehrere Zeilen simultan schreiben.  "
   ]
  },
  {
   "cell_type": "markdown",
   "id": "d0966146-6d83-4ada-a9f1-f394768beb6a",
   "metadata": {},
   "source": [
    "### Kernel unterbrechen und neu starten, allen Output l&ouml;schen\n",
    "- Wird in einer Zelle Code ausgef&uuml;hrt kann nicht gleichzeitig in einer anderen Zelle\n",
    "  Code ausgef&uuml;hrt werden.  \n",
    "- Die Ausf&uuml;hrung von Code stoppen:  \n",
    "  Klicke oben im diesem Fenster auf `Interrupt Kernel` (&#9209;).    \n",
    "  Falls das nicht hilft, klicke auf `Restart Kernel` (&#10227;).  \n",
    "  **Achtung**: Bei einem Kernel restart werden alle Variabeln gel&ouml;scht! Gleicher Effekt, wie wenn man das Notebook schliesst und wieder &ouml;ffnet.\n",
    "- Verh&auml;lt sich das Notebook merkw&uuml;dig, versuche `Restart Kernel` (&#10227;) oder  \n",
    "  klicke `Kernel ->  Restart Kernel and Clear All Outputs...`\n",
    "- Rechtsklick in eine Zelle &ouml;ffnet ein Kontextmenu, welches erlaubt,\n",
    "  allen Output zu l&ouml;schen (Clear Outputs of all Cells/ Clear Cell Outputs).\n",
    " "
   ]
  },
  {
   "cell_type": "code",
   "execution_count": null,
   "id": "32086f60-eb32-42fe-8ff9-689113aafb0d",
   "metadata": {},
   "outputs": [],
   "source": [
    "# Endlosschleife, Ausfuehrung muss unterbrochen werden (siehe obige Zelle)\n",
    "while True:\n",
    "    pass  # macht nichts, aber der Schleifenbody darf nicht leer sein"
   ]
  },
  {
   "cell_type": "markdown",
   "id": "25b9a5cc-a687-4450-b850-ecaa0ccd7f21",
   "metadata": {},
   "source": [
    "### Cell Magic und Zeilen Magic (siehe auch <a href='https://ipython.readthedocs.io/en/stable/interactive/magics.html'>Jupyterlab Dokumentation</a>)\n",
    "- Cell-Magic: Befehle der Form `%%<Befehl>` in der ersten Zeile der Zelle.  \n",
    "  Cell-Magic macht etwas mit dem Zelleninhalt. Z.B.  \n",
    "  `%%file notizen.txt` (und `%%writefile notizen.txt`) schreibt den Inhalt der Zelle in das File `notizen.txt`. Ein bestehendes File wird &uuml;berschrieben.  \n",
    "  `%%writefile -a notizen.txt` h&auml;ngt den Inhalt der Zelle an das File `notizen.txt` an.\n",
    "- Line-Magic: 1-zeilige Befehle der Form `%Befehl`.  Muss 1. Zeile einer Code-Zelle sein.  Z.B.  \n",
    "  `%load hello.py` kopiert den Inhalt des Files `hello.py` in die Zelle und kommentiert sich selbst aus.  \n",
    "  `%run hello.py` f&uuml;hrt den Code im File `hello.py` aus."
   ]
  },
  {
   "cell_type": "code",
   "execution_count": null,
   "id": "c135a614-1f65-4469-ac9e-1e47347c3b36",
   "metadata": {},
   "outputs": [],
   "source": [
    "%%file hello.py \n",
    "# Pythoncode, der den Text 'hello' ausgibt\n",
    "print('hello')"
   ]
  },
  {
   "cell_type": "code",
   "execution_count": null,
   "id": "1df6b143-97ae-433a-ae53-9bd8d1a0b82f",
   "metadata": {},
   "outputs": [],
   "source": [
    "%load hello.py"
   ]
  },
  {
   "cell_type": "code",
   "execution_count": null,
   "id": "6e2cda40-c8e8-4fd6-bdd6-4f2a70e82cf6",
   "metadata": {},
   "outputs": [],
   "source": [
    "%%writefile -a hello.py\n",
    "print('world!')"
   ]
  },
  {
   "cell_type": "code",
   "execution_count": null,
   "id": "fce778b9-11d1-4acc-b03d-85ce02feda17",
   "metadata": {},
   "outputs": [],
   "source": [
    "%run hello.py"
   ]
  },
  {
   "cell_type": "markdown",
   "id": "d662ca5c-ed9d-4846-a322-de6ec3028f85",
   "metadata": {},
   "source": [
    "### Shell Commands mit ```!<command>``` ausf&uuml;hren  \n",
    "- `!<command>` hat bei nicht-interaktiven Befehlen den gleichen Effekt, wie wenn dieser Befehl in einem Jupyterlab Terminal ausgef&uuml;hrt wird.   \n",
    "- **Achtung**: Das Notebook bleibt h&auml;ngen, falls der Befehl auf Userinput wartet. Man muss dann den Kernel stoppen."
   ]
  },
  {
   "cell_type": "code",
   "execution_count": null,
   "id": "0099b8ce-3b91-463e-99c0-a39190dd9bf5",
   "metadata": {},
   "outputs": [],
   "source": [
    "!cat hello.py # bash shell Befehl: gibt Inhalt von hello.py aus"
   ]
  },
  {
   "cell_type": "code",
   "execution_count": null,
   "id": "91f1fdcc-673e-4d28-9f0e-23981a033f0f",
   "metadata": {},
   "outputs": [],
   "source": [
    "!ls  # zeigt den Inhalt des aktuellen Verzeichnisses an"
   ]
  },
  {
   "cell_type": "code",
   "execution_count": null,
   "id": "ab58d5e1-d650-4ce5-a43d-3bcc089958d5",
   "metadata": {
    "editable": true,
    "slideshow": {
     "slide_type": ""
    },
    "tags": []
   },
   "outputs": [],
   "source": [
    "%%file foo.txt\n",
    "Schreibe in das Textfile foo.txt"
   ]
  },
  {
   "cell_type": "code",
   "execution_count": null,
   "id": "87628656-193f-421f-bd47-90d54a877d95",
   "metadata": {},
   "outputs": [],
   "source": [
    "!ls -l foo.txt  # zeig informationen zu File foo.txt an"
   ]
  },
  {
   "cell_type": "code",
   "execution_count": null,
   "id": "f495016c-d986-43ca-9fe1-7482a7a8081c",
   "metadata": {},
   "outputs": [],
   "source": [
    "!rm -f foo.txt  # loescht foo.txt ohne zu fragen "
   ]
  },
  {
   "cell_type": "code",
   "execution_count": null,
   "id": "aaf664b3-dfa4-4835-85e8-28f380e41d24",
   "metadata": {},
   "outputs": [],
   "source": [
    "!ls -l foo.txt"
   ]
  },
  {
   "cell_type": "code",
   "execution_count": null,
   "id": "16e6f145-d3c9-40e5-8586-39d5e500e770",
   "metadata": {},
   "outputs": [],
   "source": []
  }
 ],
 "metadata": {
  "author": "dieter.probst@gmail.com",
  "kernelspec": {
   "display_name": "Python 3! (ipykernel)",
   "language": "python",
   "name": "python3"
  },
  "language_info": {
   "codemirror_mode": {
    "name": "ipython",
    "version": 3
   },
   "file_extension": ".py",
   "mimetype": "text/x-python",
   "name": "python",
   "nbconvert_exporter": "python",
   "pygments_lexer": "ipython3",
   "version": "3.13.0"
  },
  "tags": [
   "L01"
  ]
 },
 "nbformat": 4,
 "nbformat_minor": 5
}
