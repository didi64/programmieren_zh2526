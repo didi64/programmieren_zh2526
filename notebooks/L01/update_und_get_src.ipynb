{
 "cells": [
  {
   "cell_type": "markdown",
   "id": "f0ff98ab-139a-4153-a701-2d8a88769fce",
   "metadata": {
    "editable": true,
    "slideshow": {
     "slide_type": ""
    },
    "tags": []
   },
   "source": [
    "### Files f&uuml;r die aktuelle Lektion herunterladen\n",
    "Mit dem Befehl `update <Nummer der Lektion>`, welcher im Jupyterlab-Terminal einzugeben ist, k&ouml;nnen die Files einer Lektion heruntergeladen werden. Die Nummer der ersten Lektion ist 1.  \n",
    "Dieser Befehl l&auml;dt die neuen Notebooks von einem Git-Repo in den Container und kopiert die Files dann in\n",
    "den Ordner `work`.\n",
    "\n",
    "Damit der Ordner `work` nicht zu voll wird, empfiehlt es sich, vor dem Ausf&uuml;hren von update 2 einen Ornder\n",
    "work/L01 zu erstellen und die im Unterricht behandelten Files dorthin zu verschieben."
   ]
  },
  {
   "cell_type": "code",
   "execution_count": null,
   "id": "52f6295f-9770-4c1d-8b9e-30b07dd2d3ba",
   "metadata": {},
   "outputs": [],
   "source": []
  }
 ],
 "metadata": {
  "kernelspec": {
   "display_name": "Python 3! (ipykernel)",
   "language": "python",
   "name": "python3"
  },
  "language_info": {
   "codemirror_mode": {
    "name": "ipython",
    "version": 3
   },
   "file_extension": ".py",
   "mimetype": "text/x-python",
   "name": "python",
   "nbconvert_exporter": "python",
   "pygments_lexer": "ipython3",
   "version": "3.13.0"
  }
 },
 "nbformat": 4,
 "nbformat_minor": 5
}
