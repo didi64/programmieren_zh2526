{
 "cells": [
  {
   "cell_type": "markdown",
   "id": "4dfff5cf-04b3-4456-8080-42df3397756c",
   "metadata": {},
   "source": [
    "### Mini-Python Programme II: Variablen, Ausdr&uuml;cke und Zuweisungen\n",
    "Eine Zuweisung ist eine  (Programm) Anweisung, welche den Wert eines Ausdrucks in einer Variable speichert.   \n",
    "\n",
    "**Variabeln** (Identifier, Namen) sind Zeichenketten, welche nur Ziffern, Buchstaben oder ein Underscore `_` enthalten, \n",
    "und nicht mit einer Ziffer beginnen.  \n",
    "Z.B. `x`, `x_0`, `x_10`, `word`, `is_even`, `_`, `Canvas`, nicht aber `0x`, `@x`, `$x`, ...\n",
    "\n",
    "\n",
    "Ein **Ausdruck** ist aufgebaut aus Intergern, Strings, Operationen und anderen Variabeln. Jeder \n",
    "Ausdruck kann wie folgt aufgebaut werden:\n",
    "- Jede Variable, Integer, String und Wahrheitswert ist ein Ausdruck.\n",
    "- Ist $A$ ein Ausdruck und $op_1$ ein einstelliger Operator (`-` oder `not`), so auch\n",
    "  $op_1$ $A$.\n",
    "- Sind $A_1$ und $A_2$ Ausdr&uuml;cke und $op_2$ ein zweistelliger Operator (`+`, `-`, `*`, $\\ldots$), so auch\n",
    "  $A_1$  $op_2$ $A_2$.\n",
    "- Ist $A$ ein Ausdruck, so auch len($A$).\n",
    "\n",
    "\n",
    "\n",
    "```\n",
    "OP1 ::= - | not\n",
    "OP2 :: + | - | * | ** | / | // | % | and | or | == | != | < | <= | > | >= | is\n",
    "Ausdruck ::= Variable | Integer | String | Wahrheitswert | OP1 Ausdruck | \n",
    "             Ausdruck OP2 Ausdruck | Ausdruck[Ausdruck] | len(Ausdruck)\n",
    "```\n",
    "\n",
    "Eine **Zuweisung** erm&ouml;glicht es, in einer Variable einen Wert zu speichern.  \n",
    "Das geschieht, indem man einer Variable einen Ausdruck zuweist. \n",
    "```python\n",
    "<Variable> = <Ausdruck>\n",
    "```\n",
    "Trifft der Interpreter auf eine Zuweisung, versucht er, den Wert des Ausdrucks zu berechnen. Gelingt dies, so wird dieser Wert in\n",
    "der Variable gespeichert. Andernfalls wir ein Fehler erzeugt.\n",
    "Z.B. haben die Ausdr&uuml;cke `2 + 'foo'` und `1 // 0` keinen Wert.\n",
    "\n",
    "\n",
    "**Bemerkung**: Ist die letzte Code-Zeile einer Zelle ein Ausruck, so wird dessen Wert angezeigt."
   ]
  },
  {
   "cell_type": "code",
   "execution_count": 9,
   "id": "cf141971-1254-4def-89ac-b5ce05517007",
   "metadata": {
    "editable": true,
    "slideshow": {
     "slide_type": ""
    },
    "tags": []
   },
   "outputs": [
    {
     "data": {
      "text/plain": [
       "12"
      ]
     },
     "execution_count": 9,
     "metadata": {},
     "output_type": "execute_result"
    }
   ],
   "source": [
    "x = 7 + 5  # x hat den Wert 12\n",
    "x"
   ]
  },
  {
   "cell_type": "code",
   "execution_count": 3,
   "id": "9d1a2715-af35-4222-af73-a79e663ab664",
   "metadata": {},
   "outputs": [
    {
     "data": {
      "text/plain": [
       "36"
      ]
     },
     "execution_count": 3,
     "metadata": {},
     "output_type": "execute_result"
    }
   ],
   "source": [
    "y = x * 3  # y hat den Wert 36\n",
    "y"
   ]
  },
  {
   "cell_type": "code",
   "execution_count": 4,
   "id": "ac2bed59-658e-4f41-8649-9259f38051b4",
   "metadata": {},
   "outputs": [
    {
     "data": {
      "text/plain": [
       "'foobar'"
      ]
     },
     "execution_count": 4,
     "metadata": {},
     "output_type": "execute_result"
    }
   ],
   "source": [
    "word = 'foo' + 'bar'  # word hat den Wert 'foobar'\n",
    "word"
   ]
  },
  {
   "cell_type": "code",
   "execution_count": 5,
   "id": "8b2a7bbf-ea07-47d7-aa8e-f79f8dc80bbc",
   "metadata": {},
   "outputs": [
    {
     "data": {
      "text/plain": [
       "'foobarfoobarfoobar'"
      ]
     },
     "execution_count": 5,
     "metadata": {},
     "output_type": "execute_result"
    }
   ],
   "source": [
    "long_word = 3*word  # long_word hat den Wert 'foobarfoobarfoobar'\n",
    "long_word"
   ]
  },
  {
   "cell_type": "code",
   "execution_count": 10,
   "id": "c698b261-40b0-476c-8b33-286311f1d31f",
   "metadata": {},
   "outputs": [
    {
     "data": {
      "text/plain": [
       "False"
      ]
     },
     "execution_count": 10,
     "metadata": {},
     "output_type": "execute_result"
    }
   ],
   "source": [
    "one_equals_two = 1 == 2\n",
    "one_equals_two"
   ]
  },
  {
   "cell_type": "code",
   "execution_count": 11,
   "id": "a75cdc48-2d21-468b-8858-ed844ac48cb6",
   "metadata": {},
   "outputs": [
    {
     "data": {
      "text/plain": [
       "True"
      ]
     },
     "execution_count": 11,
     "metadata": {},
     "output_type": "execute_result"
    }
   ],
   "source": [
    "one_equals_True = 1 == True\n",
    "one_equals_True"
   ]
  },
  {
   "cell_type": "markdown",
   "id": "d574a4ea-818f-4c6f-9414-2454f09fc47a",
   "metadata": {},
   "source": [
    "### Ausgabe\n",
    "Die Werte von Ausdr&uuml;cken k&ouml;nnen mit `print(<Ausdruck>, <Ausdruck>, ...)` ausgegeben werden.  \n",
    "Enth&auml;lt die letzte Zeile einer Code-Zelle einen Ausdruck, wird dessen Wert ebenfalls Ausgegeben.  \n",
    "Die Darstellungen der Ausdr&uuml;cke k&ouml;nnen sich dabei unterscheiden."
   ]
  },
  {
   "cell_type": "code",
   "execution_count": 15,
   "id": "f11aa100-1f05-4a13-b5f2-bf2eb740f294",
   "metadata": {
    "editable": true,
    "slideshow": {
     "slide_type": ""
    },
    "tags": []
   },
   "outputs": [
    {
     "ename": "IndentationError",
     "evalue": "unexpected indent (1502743046.py, line 2)",
     "output_type": "error",
     "traceback": [
      "  \u001b[36mCell\u001b[39m\u001b[36m \u001b[39m\u001b[32mIn[15]\u001b[39m\u001b[32m, line 2\u001b[39m\n\u001b[31m    \u001b[39m\u001b[31msecond_line = 'zweite Zeile'\u001b[39m\n    ^\n\u001b[31mIndentationError\u001b[39m\u001b[31m:\u001b[39m unexpected indent\n"
     ]
    }
   ],
   "source": [
    "first_line = 'erste Zeile'\n",
    "second_line = 'zweite Zeile'\n",
    "third_line = 80 * '-'\n",
    "s = first_line + '\\n' + second_line + '\\n' + third_line  # '\\n' ist ein Zeilenumbruch\n",
    "print(s)"
   ]
  },
  {
   "cell_type": "code",
   "execution_count": 6,
   "id": "03c3884e-e097-4398-a1e9-069861100b35",
   "metadata": {},
   "outputs": [
    {
     "data": {
      "text/plain": [
       "'erste Zeile\\nzweite Zeile\\n--------------------------------------------------------------------------------'"
      ]
     },
     "execution_count": 6,
     "metadata": {},
     "output_type": "execute_result"
    }
   ],
   "source": [
    "s  # s wird ausgegeben, "
   ]
  },
  {
   "cell_type": "code",
   "execution_count": 6,
   "id": "9206ae5d-2379-4c54-b1cb-8306631768af",
   "metadata": {},
   "outputs": [
    {
     "name": "stdout",
     "output_type": "stream",
     "text": [
      "3 plus 5 ist 12\n"
     ]
    }
   ],
   "source": [
    "print('3 plus 5 ist', 7 + 5)"
   ]
  },
  {
   "cell_type": "code",
   "execution_count": 8,
   "id": "22c91fae-c99c-4aa0-9e6d-d114ee488519",
   "metadata": {},
   "outputs": [
    {
     "name": "stdout",
     "output_type": "stream",
     "text": [
      "x hat den Wert 42\n"
     ]
    }
   ],
   "source": [
    "x = 42\n",
    "print('x hat den Wert', x)"
   ]
  },
  {
   "cell_type": "code",
   "execution_count": null,
   "id": "8fb9445f-b9a7-4a8a-8471-3a1e5dd87f23",
   "metadata": {},
   "outputs": [],
   "source": []
  },
  {
   "cell_type": "markdown",
   "id": "a4342e42-4322-4016-8a7c-1668a479d17c",
   "metadata": {
    "editable": true,
    "slideshow": {
     "slide_type": ""
    },
    "tags": []
   },
   "source": [
    "### if-Anweisungen\n",
    "Eine if-Anweisung hat folgende Form:  \n",
    "```python\n",
    "if <Ausdruck>:\n",
    "    <Codeblock>\n",
    "```    \n",
    "\n",
    "Beachte, dass der Codeblock **einger&uuml;ckt** ist (Konvention ist 4 mal <Space>) und das nach dem Ausdruck ein **Doppelpunkt** steht.  \n",
    "Zuerst wird der Ausruck ausgewertet. \n",
    "Ist der Wert des Ausrucks `False`, `0`, `0.0` oder `''`, so wird der Codeblock **nicht** ausgef&uuml;hrt.\n",
    "Bei (fast) allen anderen Werten wird der Codeblock wird ausgef&uuml;hrt.  \n",
    "\n",
    "Die Werte `False`, `0`, `0.0` und `''`  nennt man auch *false*, die anderen *true*."
   ]
  },
  {
   "cell_type": "code",
   "execution_count": 10,
   "id": "5dac9590-7b36-4647-9e41-23729a4258a1",
   "metadata": {},
   "outputs": [
    {
     "name": "stdout",
     "output_type": "stream",
     "text": [
      "x ist true\n"
     ]
    }
   ],
   "source": [
    "x = 1  # teste welche Ausdruecke true, True, false oder False sind\n",
    "if x:\n",
    "    print('x ist true')\n",
    "if x is True:  # testet of x gleich den Objekt True (es gibt nur ein solches Objekt)\n",
    "    print('x ist True')\n",
    "if not x:\n",
    "    print('x ist false')\n",
    "if x is False:\n",
    "    print('x ist False')"
   ]
  },
  {
   "cell_type": "code",
   "execution_count": 21,
   "id": "97f931fb-05bc-4065-8db7-66ee8d40d8d7",
   "metadata": {},
   "outputs": [
    {
     "name": "stdout",
     "output_type": "stream",
     "text": [
      "Ok, I delete the file\n"
     ]
    }
   ],
   "source": [
    "answer = 'yes'\n",
    "# answer = 'no'\n",
    "if answer == 'yes':\n",
    "    print('Ok, I delete the file')\n",
    "if answer == 'no':\n",
    "    print('Ok, I don\\'t delete the file')  # \\' ist ein Anfuehrungszeichen (keine Endmarkierung des Strings)"
   ]
  },
  {
   "cell_type": "code",
   "execution_count": 183,
   "id": "691cbe12-8a04-42ce-b895-df83df963006",
   "metadata": {},
   "outputs": [
    {
     "name": "stdout",
     "output_type": "stream",
     "text": [
      "10 ist gerade.\n"
     ]
    }
   ],
   "source": [
    "# Teste  of n gerade oder ungerade ist\n",
    "n = 10\n",
    "if n % 2 == 0:\n",
    "    print(n, 'ist gerade.')\n",
    "if n % 2 == 1:\n",
    "    print(n, 'ist ungerade.')"
   ]
  },
  {
   "cell_type": "code",
   "execution_count": 11,
   "id": "d0f0d491-1ce3-47fa-9564-ac80bccfe328",
   "metadata": {},
   "outputs": [
    {
     "name": "stdout",
     "output_type": "stream",
     "text": [
      "10 ist nicht durch 3 teilbar.\n"
     ]
    }
   ],
   "source": [
    "# Teste, ob n durch m teilbar ist\n",
    "n = 10\n",
    "m = 3\n",
    "if n % m == 0:\n",
    "    print(n, 'ist durch', m, 'teilbar.')\n",
    "if n % m != 0:\n",
    "    print(n, 'ist nicht durch', m, 'teilbar.')"
   ]
  },
  {
   "cell_type": "code",
   "execution_count": null,
   "id": "94d44496-5782-47ef-82b2-9b358b6eadcc",
   "metadata": {},
   "outputs": [],
   "source": []
  },
  {
   "cell_type": "markdown",
   "id": "fe230467-9a3e-44ce-a9b1-aac763a615a7",
   "metadata": {},
   "source": [
    "### While-Schleifen\n",
    "Eine While-Anweisung hat folgende Form:  \n",
    "\n",
    "```python\n",
    "while <Ausdruck>:\n",
    "    <Codeblock>\n",
    "```    \n",
    "\n",
    "Der Ausdruck wird ausgewertet. Ist der Wert des Ausdrucks *true*, wird der Codeblock ausgef&uuml;hrt, dann wir wieder der\n",
    "Ausruck ausgewertet. Ist der Wert des Ausdrucks *false*, wird der Codeblock nicht (mehr) ausgef&uuml;hrt.  \n",
    "**Achtung**: While-Schleifen werden oft unbeabsichtigt zu Endlosschleifen. Um das Programm zu stoppen, ist der Kernel zu stoppen (Boxsymbol oben im Toolbar) oder gar neu zu starten (reload Symbol im Toolbar am oberen Rand dieses Fensters)."
   ]
  },
  {
   "cell_type": "code",
   "execution_count": null,
   "id": "90d6ebb7-f9bd-4246-b3f5-fb510dec4950",
   "metadata": {},
   "outputs": [],
   "source": []
  },
  {
   "cell_type": "code",
   "execution_count": 34,
   "id": "affd0f5a-e01d-45aa-9b23-64a98fa78e6a",
   "metadata": {},
   "outputs": [
    {
     "name": "stdout",
     "output_type": "stream",
     "text": [
      "do stuff\n",
      "do stuff\n",
      "do stuff\n",
      "do stuff\n",
      "do stuff\n"
     ]
    }
   ],
   "source": [
    "# Countdown von n an, bez. einen Anweisungsblock n-Mal ausfuehren\n",
    "n = 5\n",
    "while n > 0:\n",
    "    # print(n)\n",
    "    print('do stuff')\n",
    "    n = n - 1"
   ]
  },
  {
   "cell_type": "code",
   "execution_count": 37,
   "id": "ec432232-fa9b-43ae-bc40-1b0906476127",
   "metadata": {
    "editable": true,
    "slideshow": {
     "slide_type": ""
    },
    "tags": []
   },
   "outputs": [
    {
     "name": "stdout",
     "output_type": "stream",
     "text": [
      "a\n",
      "b\n",
      "c\n",
      "d\n"
     ]
    }
   ],
   "source": [
    "# Ueber Zeichen eines String iterieren\n",
    "word = 'abcd'\n",
    "n = len(s)\n",
    "i = 0\n",
    "while i < n:\n",
    "    c = word[i]\n",
    "    print(c)\n",
    "    i = i + 1"
   ]
  },
  {
   "cell_type": "code",
   "execution_count": 38,
   "id": "c3d59f82-6dac-4837-b17f-dced3ba8bcf8",
   "metadata": {},
   "outputs": [
    {
     "ename": "KeyboardInterrupt",
     "evalue": "",
     "output_type": "error",
     "traceback": [
      "\u001b[31m---------------------------------------------------------------------------\u001b[39m",
      "\u001b[31mKeyboardInterrupt\u001b[39m                         Traceback (most recent call last)",
      "\u001b[36mCell\u001b[39m\u001b[36m \u001b[39m\u001b[32mIn[38]\u001b[39m\u001b[32m, line 4\u001b[39m\n\u001b[32m      2\u001b[39m condition = \u001b[38;5;28;01mTrue\u001b[39;00m\n\u001b[32m      3\u001b[39m i = \u001b[32m0\u001b[39m\n\u001b[32m----> \u001b[39m\u001b[32m4\u001b[39m \u001b[38;5;28;01mwhile\u001b[39;00m condition:\n\u001b[32m      5\u001b[39m     i = i + \u001b[32m1\u001b[39m\n",
      "\u001b[31mKeyboardInterrupt\u001b[39m: "
     ]
    }
   ],
   "source": [
    "# Endlosschleife\n",
    "condition = True\n",
    "i = 0\n",
    "while condition:\n",
    "    i = i + 1\n",
    "i"
   ]
  },
  {
   "cell_type": "code",
   "execution_count": 43,
   "id": "458a332f-0909-406f-af02-93e971252d6a",
   "metadata": {},
   "outputs": [
    {
     "data": {
      "text/plain": [
       "1000000"
      ]
     },
     "execution_count": 43,
     "metadata": {},
     "output_type": "execute_result"
    }
   ],
   "source": [
    "# gesicherte Schleife.\n",
    "max_steps = 1000_000\n",
    "condition = True\n",
    "i = 0\n",
    "while condition and i < max_steps:\n",
    "    i = i + 1\n",
    "i"
   ]
  },
  {
   "cell_type": "code",
   "execution_count": 57,
   "id": "2ae2a9f4-d6a5-4348-9d04-4f815c711035",
   "metadata": {
    "editable": true,
    "slideshow": {
     "slide_type": ""
    },
    "tags": []
   },
   "outputs": [
    {
     "name": "stdout",
     "output_type": "stream",
     "text": [
      "Zeichen n tritt zum erten Mal an Position 6 auf\n"
     ]
    }
   ],
   "source": [
    "# durch Endmarker gesicherte Schleife\n",
    "# finde ein Zeichen in  einem Wort, welches kein '.' enthaelt\n",
    "word = 'Zeichen'\n",
    "char = 'n'\n",
    "end_marker = '.'\n",
    "_word = word + end_marker\n",
    "\n",
    "\n",
    "i = 0\n",
    "while _word[i] != char and _word[i] != end_marker:  # an Position i ist weder das gesuchte Zeichen noch der Endmarker\n",
    "    i = i + 1\n",
    "\n",
    "if _word[i] == char:\n",
    "    print('Zeichen', char, 'tritt zum erten Mal an Position', i, 'auf')"
   ]
  },
  {
   "cell_type": "code",
   "execution_count": 51,
   "id": "2f67ac68-b108-441f-ae78-b4661d1e0ce7",
   "metadata": {
    "editable": true,
    "slideshow": {
     "slide_type": ""
    },
    "tags": []
   },
   "outputs": [
    {
     "data": {
      "text/plain": [
       "7"
      ]
     },
     "execution_count": 51,
     "metadata": {},
     "output_type": "execute_result"
    }
   ],
   "source": [
    "# Finde die groesste ganze Zahl i, so dass 2^i <= n ist (ganzzahliger Teil von log zur Basis 2)\n",
    "n = 100\n",
    "i = 0\n",
    "\n",
    "while 2**i <= n:\n",
    "    i = i + 1\n",
    "\n",
    "i = i - 1\n",
    "i"
   ]
  },
  {
   "cell_type": "code",
   "execution_count": null,
   "id": "1bd5ca90-ea55-452c-998c-5c965567b6ae",
   "metadata": {},
   "outputs": [],
   "source": []
  }
 ],
 "metadata": {
  "kernelspec": {
   "display_name": "Python 3! (ipykernel)",
   "language": "python",
   "name": "python3"
  },
  "language_info": {
   "codemirror_mode": {
    "name": "ipython",
    "version": 3
   },
   "file_extension": ".py",
   "mimetype": "text/x-python",
   "name": "python",
   "nbconvert_exporter": "python",
   "pygments_lexer": "ipython3",
   "version": "3.13.0"
  }
 },
 "nbformat": 4,
 "nbformat_minor": 5
}
