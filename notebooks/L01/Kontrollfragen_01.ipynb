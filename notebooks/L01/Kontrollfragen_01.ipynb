{
 "cells": [
  {
   "cell_type": "markdown",
   "id": "b96cb34b-677f-4973-97f3-a10952e5d556",
   "metadata": {
    "editable": true,
    "slideshow": {
     "slide_type": ""
    },
    "tags": []
   },
   "source": [
    "### Kontrollfragen zu Jupyterlab_Intro\n",
    "1. Dr&uuml;cke `x` neben einer Zelle um diese zu l&ouml;schen, dann `z`, um die Aktion r&uuml;ckg&auml;ngig zu machen.\n",
    "1. &Auml;ndere den Inhalt einer Zelle und mache dies mit Ctrl-z wieder r&uuml;ckg&auml;ngig.\n",
    "1. Was zeigt [*] neben einer Code-Zelle an?\n",
    "1. Was ist der Unterschied zwischen **Ctrl-Enter** und **shift-Enter** beim Ausf&uuml;hren einer Code-Zelle?\n",
    "1. Was sind Line- und Cell-Magic Befehle?\n",
    "1. Welche Arten von Zellen gibt es? Wie kann man den Zelltyp &auml;ndern?\n",
    "1. Wann wird Code mit oranger Wellenlinie unterlegt, wann mit einer roten Wellenlinie?"
   ]
  },
  {
   "cell_type": "markdown",
   "id": "7f122fc7-e731-47ed-ae74-4ce5edad71c6",
   "metadata": {
    "editable": true,
    "slideshow": {
     "slide_type": ""
    },
    "tags": []
   },
   "source": [
    "### Kontrollfragen zu MiniPython I\n",
    "1. Der Vergleich `1/5 + 2/5 == 3/5` liefert `False`. Wie testet man, ob die beiden Werte sehr nahe beieinander liegen?\n",
    "1. Was liefert der Test `1 == 1.0`? Beachte, hier vergleicht man einen Integer mit einem Float.\n",
    "1. Teste, ob 249047 durch 37 teilbar ist. Finde die n&auml;chst kleinere Zahl, die durch 39 teilbar ist.\n",
    "1. `'abcd'[4/2]` erzeugt einen Fehler. Wieso? Verwende Integerdivision um den Fehler zu beheben.\n",
    "1. Benutze `+` und `*` um einen Ausdruck mit dem Wert `'xxxxxxxxxxxxxxxxxxxxxxxxxxxxxxXXXXXXXXXXxxxxxxxxxxxxxxxxxxxxxxxxxxxxxx'` zu formen (30 `x` gefolgt von 10 `X`, gefolgt von 30 `x`).\n",
    "1. Welchen Wert haben die Ausdr&uuml;cke `True+True` und `False+True` und `False+0` und wieso?\n",
    "1. Nur einer der Ausdr&uuml;cke `10**309 + 1` und `10**309 + 1.0` hat einen Wert. Welcher und wieso?\n",
    "1. Welchen Wert hat der Ausdruck `'efg' + 'abc' * ('efg' < 'abc') + 'bcd' * ('bcd' < 'efg')` und wieso?\n",
    "1. Wie berechnet man mit der Operaton `**` Quadratwurzeln?   \n",
    "1. Was sind die 10 letzten Ziffern der Zahl 2 hoch Zehntausend?"
   ]
  },
  {
   "cell_type": "markdown",
   "id": "63d043d2-4389-4c06-a7e0-5aed5c04e707",
   "metadata": {
    "editable": true,
    "slideshow": {
     "slide_type": ""
    },
    "tags": []
   },
   "source": [
    "### Kontrollfragen MiniPython II\n",
    "1. Schreibe Mini-Python Code der folgenden Output produziert, wobei sich die Breite der Textbox nach\n",
    "   dem Wert einer Variable `width` richtet.\n",
    "```\n",
    "################################################################################\n",
    "#                                                                              #\n",
    "#                                   Textbox                                    #\n",
    "#                                                                              #\n",
    "################################################################################   \n",
    "```\n",
    "2. Weise einer Variable einen String zu, der ebenfalls obigen Output produziert, wenn er mit `print` ausgegeben wird.\n",
    "3. Korrigiere die Fehler in folgendem Code.\n",
    "```\n",
    "x = 2\n",
    "if x = 2\n",
    "    print(x ist 2)\n",
    "```    \n",
    "\n",
    "4. Schreibe Mini-Python Code, der die Summe 1+2+...+999+1000 berechnet.\n",
    "5. Schreibe Mini-Python Code, der das erste und letzte Zeichen eines Strings entfernt."
   ]
  },
  {
   "cell_type": "code",
   "execution_count": null,
   "id": "6903bdb1-8859-4b81-99f2-4f38307ddd66",
   "metadata": {},
   "outputs": [],
   "source": []
  }
 ],
 "metadata": {
  "author": "Dieter Probst",
  "kernelspec": {
   "display_name": "Python 3! (ipykernel)",
   "language": "python",
   "name": "python3"
  },
  "language_info": {
   "codemirror_mode": {
    "name": "ipython",
    "version": 3
   },
   "file_extension": ".py",
   "mimetype": "text/x-python",
   "name": "python",
   "nbconvert_exporter": "python",
   "pygments_lexer": "ipython3",
   "version": "3.13.0"
  },
  "tags": [
   "L01"
  ]
 },
 "nbformat": 4,
 "nbformat_minor": 5
}
