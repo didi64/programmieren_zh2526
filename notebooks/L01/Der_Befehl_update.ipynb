{
 "cells": [
  {
   "cell_type": "markdown",
   "id": "f0ff98ab-139a-4153-a701-2d8a88769fce",
   "metadata": {
    "editable": true,
    "slideshow": {
     "slide_type": ""
    },
    "tags": []
   },
   "source": [
    "### Files f&uuml;r die aktuelle Lektion herunterladen\n",
    "Mit dem Befehl `update <Nummer der Lektion>`, welcher im Jupyterlab-Terminal einzugeben ist, k&ouml;nnen die Files einer Lektion heruntergeladen werden. Die Nummer der ersten Lektion ist 1. Dieser Befehl l&auml;dt die neuen Notebooks von einem Git-Repo in den Container und kopiert die Files dann in\n",
    "den Ordner `work`. Befindet sich bereits ein File mit dem gleichen Namen im Ordner `work`, wird gefragt, ob das File &uuml;berschrieben werden soll.  \n",
    "Will man nicht gefragt werden, dann kann man folgende Varianten des Befehls nutzen:  \n",
    "- `update -y <Nummer der Lektion>` &uuml;berschreibt immer, und\n",
    "- `update -n <Nummer der Lektion>` &uuml;berschreibt nie.\n",
    "\n",
    "Es k&ouml;nnen auch einzelne Files oder Ordner heruntergeladen werden. Z.B.\n",
    "- `update Jupyterlab_Intro.ipynb`\n",
    "\n",
    "\n",
    "**Bemerkungen**: \n",
    "- Sollte der `update`-Befehl einen Fehler ausl&ouml;sen (was eigentlich nicht der Fall sein sollte), benutze `get_src`. Dieser Befehl l&ouml;scht alle\n",
    "Notebooks im Container und ersetzt diese durch die Notebooks aus dem Git-Repo. Dann sollte der  `update`-Befehl \n",
    "wieder funktionieren.\n",
    "\n",
    "- Wurde in Notebook durch ein anderes ersetzt, zeigt Jupyterlab manchmal immer noch das alte an.  \n",
    "  Klicke in diesem Fall `File -> Reload Notebook from Disk`\n",
    "\n",
    "- Damit der Ordner `work` nicht zu voll wird, empfiehlt es sich, vor dem Ausf&uuml;hren von `update 2` einen Ordner\n",
    "`work/L01` zu erstellen und die im Unterricht behandelten Files dorthin zu verschieben."
   ]
  },
  {
   "cell_type": "code",
   "execution_count": null,
   "id": "52f6295f-9770-4c1d-8b9e-30b07dd2d3ba",
   "metadata": {},
   "outputs": [],
   "source": []
  }
 ],
 "metadata": {
  "author": "Dieter Probst",
  "kernelspec": {
   "display_name": "Python 3! (ipykernel)",
   "language": "python",
   "name": "python3"
  },
  "language_info": {
   "codemirror_mode": {
    "name": "ipython",
    "version": 3
   },
   "file_extension": ".py",
   "mimetype": "text/x-python",
   "name": "python",
   "nbconvert_exporter": "python",
   "pygments_lexer": "ipython3",
   "version": "3.13.0"
  },
  "tags": [
   "L01",
   "update"
  ]
 },
 "nbformat": 4,
 "nbformat_minor": 5
}
