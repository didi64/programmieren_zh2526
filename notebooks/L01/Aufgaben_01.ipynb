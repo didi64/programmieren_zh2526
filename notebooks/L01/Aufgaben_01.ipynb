{
 "cells": [
  {
   "cell_type": "markdown",
   "id": "b96cb34b-677f-4973-97f3-a10952e5d556",
   "metadata": {
    "editable": true,
    "slideshow": {
     "slide_type": ""
    },
    "tags": []
   },
   "source": [
    "### Kontrollfragen\n",
    "1. Was zeigt [*] neben einer Code-Zelle an?\n",
    "1. Was ist der Unterschied zwischen **Ctrl-Enter** und **shift-Enter** beim Ausf&uuml;hren einer Code-Zelle? \n",
    "1. Was sind Line- und Cell-Magic Befehle? Demonstriere an einen kurzen Beispiel was `%%file` und `%load` tun.\n",
    "1. Welche Arten von Zellen gibt es? Wie kann man den Zelltyp &auml;ndern?\n",
    "1. Wann wird Code mit oranger Wellenlinie unterlegt, wann mit einer roten Wellenlinie?"
   ]
  },
  {
   "cell_type": "markdown",
   "id": "2a0d37d5-3521-4a56-875d-048f97493968",
   "metadata": {
    "editable": true,
    "slideshow": {
     "slide_type": ""
    },
    "tags": []
   },
   "source": [
    "### Kontrollfragen\n",
    "1. Der Vergleich `1/5 + 2/5 == 3/5` liefert `False`. Wie testet man, die beiden Werte sehr nahe beieinander liegen?\n",
    "1. Was liefert der Test `1 == 1.0`? Beachte, hier vergleicht man einen Integer mit einem Float.\n",
    "1. Teste, ob 249047 durch 37 teilbar ist. Finde die n&auml;chst gr&ouml;ssere Zahl, die durch 39 teilbar ist.\n",
    "1. `'abcd'[4/2]` erzeugt einen Fehler. Wieso? Verwende Integerdivision um den Fehler zu beheben.\n",
    "1. Welchen Wert hat der Ausdruck `'efg' + 'abc' * ('efg' < 'abc') + 'bcd' * ('bcd' < 'efg')` und wieso?\n",
    "1. Forme einen Ausdruch mit dem Wert `'xxxxxxxxxxxxxxxxxxxxxxxxxxxxxxXXXXXXXXXXxxxxxxxxxxxxxxxxxxxxxxxxxxxxxx'`.\n",
    "1. Welchen Wert haben die Ausdr&uuml;cke `True+True` und `False+True` und `False+0` und wieso?\n",
    "1. Was sind die 10 letzten Ziffern der Zahl 2 hoch Zehntausend?\n",
    "1. Welche der folgenden Ausdr&uuml;cke hat keinen Wert? `'a' + 1*'b'`, `'a' - 1*'b'`, `'a' - 'b'`?\n",
    "1. Nur einer der Ausdr&uuml;cke `10**309 + 1` und `10**309 + 1.0` hat einen Wert. Welcher und wieso?"
   ]
  },
  {
   "cell_type": "code",
   "execution_count": null,
   "id": "f0eabe98-0f5e-4c63-8497-8525b8824ee3",
   "metadata": {},
   "outputs": [],
   "source": [
    "x = 2\n",
    "if x = 2\n",
    "    print(x ist 2)"
   ]
  },
  {
   "cell_type": "markdown",
   "id": "63d043d2-4389-4c06-a7e0-5aed5c04e707",
   "metadata": {
    "editable": true,
    "slideshow": {
     "slide_type": ""
    },
    "tags": []
   },
   "source": [
    "### Kontrollfragen\n",
    "1. Schreibe Mini-Python Code der folgenden Output produziert, wobei sich die Breite der Textbox nach\n",
    "   dem Wert einer Variable `width` richtet.\n",
    "```\n",
    "################################################################################\n",
    "#                                                                              #\n",
    "#                                   Textbox                                    #\n",
    "#                                                                              #\n",
    "################################################################################   \n",
    "```\n",
    "2. Weise einer Variable einen String zu, der ebenfalls obigen Output produziert, wenn er mit print ausgegeben wird.\n",
    "3. Korrigiere die Fehler in folgendem Code.\n",
    "```\n",
    "x = 2\n",
    "if x = 2\n",
    "    print(x ist 2)\n",
    "```    \n",
    "\n",
    "4. Schreibe Mini-Python Code, der die Summe 1+2+...+999+1000 berechnet.\n",
    "5. Schreibe Mini-Python Code, der das erste und letzte Zeichen eines Strings entfernt."
   ]
  },
  {
   "cell_type": "code",
   "execution_count": 35,
   "id": "92ad3e81-5e74-4d98-8ec5-2a966c97d3b6",
   "metadata": {},
   "outputs": [
    {
     "data": {
      "text/plain": [
       "500500"
      ]
     },
     "execution_count": 35,
     "metadata": {},
     "output_type": "execute_result"
    }
   ],
   "source": [
    "n = 1000\n",
    "total = 0\n",
    "i = 1\n",
    "\n",
    "while i <= 1000:\n",
    "    total = total + i\n",
    "    i = i + 1\n",
    "total"
   ]
  },
  {
   "cell_type": "code",
   "execution_count": 38,
   "id": "0f5f8b3a-f251-4dd2-863e-dc9f5bcacfda",
   "metadata": {},
   "outputs": [
    {
     "data": {
      "text/plain": [
       "'ooba'"
      ]
     },
     "execution_count": 38,
     "metadata": {},
     "output_type": "execute_result"
    }
   ],
   "source": [
    "word = 'foobar'\n",
    "inner_word = ''\n",
    "n = len(word)\n",
    "i = 1\n",
    "while i < n-1:\n",
    "    inner_word = inner_word + word[i]\n",
    "    i = i + 1\n",
    "inner_word"
   ]
  },
  {
   "cell_type": "code",
   "execution_count": 32,
   "id": "67b4cd06-38ee-402c-b147-951ea1eb1bfe",
   "metadata": {},
   "outputs": [
    {
     "name": "stdout",
     "output_type": "stream",
     "text": [
      "################################################################################\n",
      "#                                                                              #\n",
      "#                                   Textbox                                    #\n",
      "#                                                                              #\n",
      "################################################################################\n"
     ]
    }
   ],
   "source": [
    "width = 80\n",
    "border = '#'\n",
    "space = ' '\n",
    "text = 'Textbox '\n",
    "n_text = len(text)\n",
    "n_space = (width-2-n) // 2\n",
    "\n",
    "\n",
    "text_line = border + n_space*space + text + n_space*space + border\n",
    "line_1 = width*border\n",
    "line_2 = border + (width - 2)*space + border\n",
    "\n",
    "print(line_1)\n",
    "print(line_2)\n",
    "print(text_line)\n",
    "print(line_2)\n",
    "print(line_1)"
   ]
  },
  {
   "cell_type": "code",
   "execution_count": 31,
   "id": "988c3fe7-d3cf-49e8-9665-fca70309dcdc",
   "metadata": {},
   "outputs": [
    {
     "name": "stdout",
     "output_type": "stream",
     "text": [
      "################################################################################\n",
      "#                                                                              #\n",
      "#                                   Textbox                                    #\n",
      "#                                                                              #\n",
      "################################################################################\n"
     ]
    }
   ],
   "source": [
    "width = 80\n",
    "border = '#'\n",
    "space = ' '\n",
    "text = 'Textbox'\n",
    "n_text = len(text)\n",
    "n_space_left = (width-2-n) // 2\n",
    "n_space_right = width - 2 - n_space_left - n_text\n",
    "text_line = border + n_space_left*space + text + n_space_right*space + border\n",
    "line_1 = width*border\n",
    "line_2 = border + (width - 2)*space + border \n",
    "\n",
    "\n",
    "\n",
    "print(line_1)\n",
    "print(line_2)\n",
    "print(text_line)\n",
    "print(line_2)\n",
    "print(line_1)"
   ]
  },
  {
   "cell_type": "code",
   "execution_count": 30,
   "id": "270f8bd9-a717-4615-bf78-03a4dbcff7d5",
   "metadata": {},
   "outputs": [
    {
     "name": "stdout",
     "output_type": "stream",
     "text": [
      "################################################################################\n",
      "#                                                                              #\n",
      "#                                   Textbox                                    #\n",
      "#                                                                              #\n",
      "################################################################################\n"
     ]
    }
   ],
   "source": [
    "s = line_1 + '\\n' + line_2 + '\\n' + text_line + '\\n' + line_2 + '\\n' + line_1\n",
    "print(s)"
   ]
  },
  {
   "cell_type": "code",
   "execution_count": 3,
   "id": "baba1add-65a5-436a-abcd-27b5f967cb6c",
   "metadata": {
    "editable": true,
    "slideshow": {
     "slide_type": ""
    },
    "tags": []
   },
   "outputs": [
    {
     "data": {
      "text/plain": [
       "True"
      ]
     },
     "execution_count": 3,
     "metadata": {},
     "output_type": "execute_result"
    }
   ],
   "source": [
    "eps = 1E-15\n",
    "-eps < (1/5 + 2/5) - 3/5 < eps"
   ]
  },
  {
   "cell_type": "code",
   "execution_count": 4,
   "id": "60356fa0-227d-4d52-8a50-a2391241305b",
   "metadata": {
    "editable": true,
    "slideshow": {
     "slide_type": ""
    },
    "tags": []
   },
   "outputs": [
    {
     "data": {
      "text/plain": [
       "True"
      ]
     },
     "execution_count": 4,
     "metadata": {},
     "output_type": "execute_result"
    }
   ],
   "source": [
    "1 == 1.0"
   ]
  },
  {
   "cell_type": "code",
   "execution_count": 14,
   "id": "0689ab94-2513-45bf-9051-c3604ee34288",
   "metadata": {},
   "outputs": [
    {
     "data": {
      "text/plain": [
       "'c'"
      ]
     },
     "execution_count": 14,
     "metadata": {},
     "output_type": "execute_result"
    }
   ],
   "source": [
    "'abcd'[4//2]"
   ]
  },
  {
   "cell_type": "code",
   "execution_count": 9,
   "id": "68fc357f-a9cc-4b21-9c24-c4585f6625c4",
   "metadata": {},
   "outputs": [
    {
     "data": {
      "text/plain": [
       "32"
      ]
     },
     "execution_count": 9,
     "metadata": {},
     "output_type": "execute_result"
    }
   ],
   "source": [
    "249047 % 39"
   ]
  },
  {
   "cell_type": "code",
   "execution_count": 13,
   "id": "ee0986f8-7c2b-4755-8f52-e7db673d6963",
   "metadata": {},
   "outputs": [
    {
     "data": {
      "text/plain": [
       "'efgbcd'"
      ]
     },
     "execution_count": 13,
     "metadata": {},
     "output_type": "execute_result"
    }
   ],
   "source": []
  },
  {
   "cell_type": "code",
   "execution_count": 17,
   "id": "3409f2da-d510-4e19-8522-12cbd4949a99",
   "metadata": {},
   "outputs": [
    {
     "data": {
      "text/plain": [
       "'xxxxxxxxxxxxxxxxxxxxxxxxxxxxxxXXXXXXXXXXxxxxxxxxxxxxxxxxxxxxxxxxxxxxxx'"
      ]
     },
     "execution_count": 17,
     "metadata": {},
     "output_type": "execute_result"
    }
   ],
   "source": [
    "30*'x' + 10*'X' + 30*'x'"
   ]
  },
  {
   "cell_type": "code",
   "execution_count": 20,
   "id": "b5acdc39-d0b4-4acd-b85a-c2d9627a13f7",
   "metadata": {},
   "outputs": [
    {
     "data": {
      "text/plain": [
       "0"
      ]
     },
     "execution_count": 20,
     "metadata": {},
     "output_type": "execute_result"
    }
   ],
   "source": [
    "False+0"
   ]
  },
  {
   "cell_type": "code",
   "execution_count": 22,
   "id": "54921647-08b2-407d-9320-7f7de8be95c0",
   "metadata": {},
   "outputs": [
    {
     "data": {
      "text/plain": [
       "''"
      ]
     },
     "execution_count": 22,
     "metadata": {},
     "output_type": "execute_result"
    }
   ],
   "source": [
    "-1*'x'"
   ]
  },
  {
   "cell_type": "code",
   "execution_count": 27,
   "id": "41b986c0-a708-4dd7-9ddd-7f8df2f25fa6",
   "metadata": {},
   "outputs": [
    {
     "data": {
      "text/plain": [
       "2596709376"
      ]
     },
     "execution_count": 27,
     "metadata": {},
     "output_type": "execute_result"
    }
   ],
   "source": [
    "2**10000 % 10**10"
   ]
  },
  {
   "cell_type": "code",
   "execution_count": 31,
   "id": "206c8015-a969-4366-b28e-b1d46c108808",
   "metadata": {},
   "outputs": [
    {
     "data": {
      "text/plain": [
       "3011"
      ]
     },
     "execution_count": 31,
     "metadata": {},
     "output_type": "execute_result"
    }
   ],
   "source": [
    "x = 2**10_000  # Underscores im innern von Floats und Integern werden ignoriert\n",
    "n = 0\n",
    "while x > 0:\n",
    "    x = x // 10\n",
    "    n = n + 1\n",
    "n"
   ]
  },
  {
   "cell_type": "code",
   "execution_count": 34,
   "id": "d964d126-3d7a-4e02-9f7e-d034a1c51a1a",
   "metadata": {},
   "outputs": [
    {
     "ename": "SyntaxError",
     "evalue": "invalid decimal literal (3011776803.py, line 1)",
     "output_type": "error",
     "traceback": [
      "  \u001b[36mCell\u001b[39m\u001b[36m \u001b[39m\u001b[32mIn[34]\u001b[39m\u001b[32m, line 1\u001b[39m\n\u001b[31m    \u001b[39m\u001b[31m12_23_3.3_3_\u001b[39m\n               ^\n\u001b[31mSyntaxError\u001b[39m\u001b[31m:\u001b[39m invalid decimal literal\n"
     ]
    }
   ],
   "source": [
    "12_23_3.3_3_"
   ]
  },
  {
   "cell_type": "code",
   "execution_count": 35,
   "id": "f50e559b-4ecd-441f-beac-9ab104815504",
   "metadata": {},
   "outputs": [
    {
     "data": {
      "text/plain": [
       "1.7976931348623157e+308"
      ]
     },
     "execution_count": 35,
     "metadata": {},
     "output_type": "execute_result"
    }
   ],
   "source": [
    "sys.float_info.max"
   ]
  },
  {
   "cell_type": "code",
   "execution_count": 20,
   "id": "7016dc41-90dd-493b-abce-eb4e7c4f13c0",
   "metadata": {},
   "outputs": [
    {
     "ename": "OverflowError",
     "evalue": "int too large to convert to float",
     "output_type": "error",
     "traceback": [
      "\u001b[31m---------------------------------------------------------------------------\u001b[39m",
      "\u001b[31mOverflowError\u001b[39m                             Traceback (most recent call last)",
      "\u001b[36mCell\u001b[39m\u001b[36m \u001b[39m\u001b[32mIn[20]\u001b[39m\u001b[32m, line 1\u001b[39m\n\u001b[32m----> \u001b[39m\u001b[32m1\u001b[39m \u001b[32;43m10\u001b[39;49m\u001b[43m*\u001b[49m\u001b[43m*\u001b[49m\u001b[32;43m309\u001b[39;49m\u001b[43m \u001b[49m\u001b[43m+\u001b[49m\u001b[43m \u001b[49m\u001b[32;43m1.0\u001b[39;49m\n",
      "\u001b[31mOverflowError\u001b[39m: int too large to convert to float"
     ]
    }
   ],
   "source": [
    "10**309 + 1.0"
   ]
  },
  {
   "cell_type": "code",
   "execution_count": 19,
   "id": "880d9f51-8603-40ef-9d61-c7a7f8160332",
   "metadata": {},
   "outputs": [
    {
     "data": {
      "text/plain": [
       "1000000000000000000000000000000000000000000000000000000000000000000000000000000000000000000000000000000000000000000000000000000000000000000000000000000000000000000000000000000000000000000000000000000000000000000000000000000000000000000000000000000000000000000000000000000000000000000000000000000000000000000001"
      ]
     },
     "execution_count": 19,
     "metadata": {},
     "output_type": "execute_result"
    }
   ],
   "source": [
    "10**309 + 1"
   ]
  },
  {
   "cell_type": "code",
   "execution_count": null,
   "id": "94eeb97b-5539-49de-ac26-d4eaead627f7",
   "metadata": {},
   "outputs": [],
   "source": []
  }
 ],
 "metadata": {
  "kernelspec": {
   "display_name": "Python 3! (ipykernel)",
   "language": "python",
   "name": "python3"
  },
  "language_info": {
   "codemirror_mode": {
    "name": "ipython",
    "version": 3
   },
   "file_extension": ".py",
   "mimetype": "text/x-python",
   "name": "python",
   "nbconvert_exporter": "python",
   "pygments_lexer": "ipython3",
   "version": "3.13.0"
  }
 },
 "nbformat": 4,
 "nbformat_minor": 5
}
